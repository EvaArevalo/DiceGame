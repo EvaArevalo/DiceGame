{
 "cells": [
  {
   "cell_type": "markdown",
   "metadata": {
    "ExecuteTime": {
     "end_time": "2020-06-06T12:10:01.588514Z",
     "start_time": "2020-06-06T12:10:01.586466Z"
    }
   },
   "source": [
    "# Original"
   ]
  },
  {
   "cell_type": "markdown",
   "metadata": {
    "ExecuteTime": {
     "end_time": "2020-06-06T13:53:57.185195Z",
     "start_time": "2020-06-06T13:53:57.182477Z"
    }
   },
   "source": [
    "## 1 player setting"
   ]
  },
  {
   "cell_type": "code",
   "execution_count": 1,
   "metadata": {
    "ExecuteTime": {
     "end_time": "2020-06-07T15:46:37.982987Z",
     "start_time": "2020-06-07T15:46:37.975956Z"
    }
   },
   "outputs": [],
   "source": [
    "import random\n",
    "\n",
    "GOAL = 12\n",
    "action_A = {'reward':6, 'prob':1/6, 'match':[1]}\n",
    "action_B = {'reward':3, 'prob':1/3, 'match':[2,3]}\n",
    "action_C = {'reward':2, 'prob':1/2, 'match':[4,5,6]}\n",
    "actions = [action_A,action_B,action_C]"
   ]
  },
  {
   "cell_type": "code",
   "execution_count": 2,
   "metadata": {
    "ExecuteTime": {
     "end_time": "2020-06-07T15:46:38.001552Z",
     "start_time": "2020-06-07T15:46:37.985517Z"
    }
   },
   "outputs": [],
   "source": [
    "def selection_strategy_1(**kwargs):\n",
    "    return action_A\n",
    "\n",
    "def selection_strategy_2(**kwargs):\n",
    "    return action_B\n",
    "\n",
    "def selection_strategy_3(**kwargs):\n",
    "    return action_C\n",
    "\n",
    "def selection_strategy_4(**kwargs):\n",
    "    ix = random.randint(0,2)\n",
    "    return actions[ix]\n",
    "    \n",
    "def selection_strategy_5(**kwargs):\n",
    "    global counter\n",
    "    counter +=1\n",
    "    if counter%2 == 0:\n",
    "        return action_A\n",
    "    else:\n",
    "        return action_B\n",
    "    \n",
    "def selection_strategy_6(**kwargs):\n",
    "    global counter\n",
    "    counter +=1\n",
    "    if counter%2 == 0:\n",
    "        return action_A\n",
    "    else:\n",
    "        return action_C\n",
    "\n",
    "def selection_strategy_7(**kwargs):\n",
    "    global counter\n",
    "    counter +=1\n",
    "    if counter%2 == 0:\n",
    "        return action_B\n",
    "    else:\n",
    "        return action_C\n",
    "    \n",
    "def selection_strategy_8(**kwargs):\n",
    "    threshold = 0.4\n",
    "    rand = random.randint(1,10)\n",
    "    if rand > threshold:\n",
    "        return action_B\n",
    "    else:\n",
    "        return action_C\n",
    "    \n",
    "def selection_strategy_9(**kwargs):\n",
    "    if kwargs['prev_action']==action_A:\n",
    "        return action_B\n",
    "    elif kwargs['prev_action']==action_B:\n",
    "        return action_C\n",
    "    elif kwargs['prev_action']==action_C:\n",
    "        return action_A\n",
    "\n",
    "def selection_strategy_10(**kwargs):\n",
    "    ''' Up the stakes if success in previous round, down the stakes otherwise'''\n",
    "    prev_action = kwargs['prev_action']\n",
    "    prev_dice_res = kwargs['prev_dice_res']\n",
    "    if prev_action == action_C:\n",
    "        if prev_dice_res in prev_action['match']:\n",
    "            return action_C\n",
    "        else:\n",
    "            return action_B\n",
    "    elif prev_action == action_B:\n",
    "        if prev_dice_res in prev_action['match']:\n",
    "            return action_C\n",
    "        else:\n",
    "            return action_A\n",
    "    elif prev_action == action_A:\n",
    "        if prev_dice_res in prev_action['match']:\n",
    "            return action_B\n",
    "        else:\n",
    "            return action_A\n",
    "        \n"
   ]
  },
  {
   "cell_type": "code",
   "execution_count": 3,
   "metadata": {
    "ExecuteTime": {
     "end_time": "2020-06-07T15:46:38.013003Z",
     "start_time": "2020-06-07T15:46:38.003509Z"
    }
   },
   "outputs": [],
   "source": [
    "def play_dice_game(selection_strategy,iteration_no):\n",
    "    #play dice game, 1 player\n",
    "    dice_throws_arr = []\n",
    "\n",
    "    for i in range(0,iteration_no):\n",
    "        \n",
    "        #vars\n",
    "        profit = 0\n",
    "        rounds = 0\n",
    "        prev_action = actions[random.randint(0,2)]  #choose a random action to begin\n",
    "        prev_dice_res = random.randint(1,6)\n",
    "\n",
    "        while profit < GOAL:\n",
    "            \n",
    "            #sel action, roll dice, count reward\n",
    "            kwargs = {'profit':profit,'rounds':rounds, 'prev_action':prev_action,\\\n",
    "                     'prev_dice_res':prev_dice_res}\n",
    "            sel_action = selection_strategy(**kwargs)\n",
    "            dice_res = random.randint(1,6)\n",
    "            if dice_res in sel_action['match']:\n",
    "                profit += sel_action['reward']\n",
    "            \n",
    "            #update state\n",
    "            rounds += 1\n",
    "            prev_action = sel_action\n",
    "            prev_dice_res = dice_res\n",
    "\n",
    "        dice_throws_arr.append(rounds)\n",
    "    \n",
    "    return np.mean(dice_throws_arr)"
   ]
  },
  {
   "cell_type": "code",
   "execution_count": 4,
   "metadata": {
    "ExecuteTime": {
     "end_time": "2020-06-07T15:46:38.024245Z",
     "start_time": "2020-06-07T15:46:38.014416Z"
    }
   },
   "outputs": [],
   "source": [
    "no_rounds = 5"
   ]
  },
  {
   "cell_type": "code",
   "execution_count": 5,
   "metadata": {
    "ExecuteTime": {
     "end_time": "2020-06-07T15:46:38.059716Z",
     "start_time": "2020-06-07T15:46:38.025475Z"
    }
   },
   "outputs": [
    {
     "ename": "NameError",
     "evalue": "name 'np' is not defined",
     "output_type": "error",
     "traceback": [
      "\u001b[0;31m---------------------------------------------------------------------------\u001b[0m",
      "\u001b[0;31mNameError\u001b[0m                                 Traceback (most recent call last)",
      "\u001b[0;32m<ipython-input-5-024a6e8e2451>\u001b[0m in \u001b[0;36m<module>\u001b[0;34m\u001b[0m\n\u001b[0;32m----> 1\u001b[0;31m \u001b[0mplay_dice_game\u001b[0m\u001b[0;34m(\u001b[0m\u001b[0mselection_strategy_1\u001b[0m\u001b[0;34m,\u001b[0m\u001b[0mno_rounds\u001b[0m\u001b[0;34m)\u001b[0m\u001b[0;34m\u001b[0m\u001b[0;34m\u001b[0m\u001b[0m\n\u001b[0m",
      "\u001b[0;32m<ipython-input-3-14f689ca3702>\u001b[0m in \u001b[0;36mplay_dice_game\u001b[0;34m(selection_strategy, iteration_no)\u001b[0m\n\u001b[1;32m     28\u001b[0m         \u001b[0mdice_throws_arr\u001b[0m\u001b[0;34m.\u001b[0m\u001b[0mappend\u001b[0m\u001b[0;34m(\u001b[0m\u001b[0mrounds\u001b[0m\u001b[0;34m)\u001b[0m\u001b[0;34m\u001b[0m\u001b[0;34m\u001b[0m\u001b[0m\n\u001b[1;32m     29\u001b[0m \u001b[0;34m\u001b[0m\u001b[0m\n\u001b[0;32m---> 30\u001b[0;31m     \u001b[0;32mreturn\u001b[0m \u001b[0mnp\u001b[0m\u001b[0;34m.\u001b[0m\u001b[0mmean\u001b[0m\u001b[0;34m(\u001b[0m\u001b[0mdice_throws_arr\u001b[0m\u001b[0;34m)\u001b[0m\u001b[0;34m\u001b[0m\u001b[0;34m\u001b[0m\u001b[0m\n\u001b[0m",
      "\u001b[0;31mNameError\u001b[0m: name 'np' is not defined"
     ]
    }
   ],
   "source": [
    "play_dice_game(selection_strategy_1,no_rounds)"
   ]
  },
  {
   "cell_type": "code",
   "execution_count": null,
   "metadata": {
    "ExecuteTime": {
     "end_time": "2020-06-07T15:46:38.061233Z",
     "start_time": "2020-06-07T15:46:38.001Z"
    }
   },
   "outputs": [],
   "source": [
    "play_dice_game(selection_strategy_2,no_rounds)"
   ]
  },
  {
   "cell_type": "code",
   "execution_count": null,
   "metadata": {
    "ExecuteTime": {
     "end_time": "2020-06-07T15:46:38.061746Z",
     "start_time": "2020-06-07T15:46:38.005Z"
    }
   },
   "outputs": [],
   "source": [
    "play_dice_game(selection_strategy_3,no_rounds)"
   ]
  },
  {
   "cell_type": "code",
   "execution_count": null,
   "metadata": {
    "ExecuteTime": {
     "end_time": "2020-06-07T15:46:38.062254Z",
     "start_time": "2020-06-07T15:46:38.009Z"
    }
   },
   "outputs": [],
   "source": [
    "play_dice_game(selection_strategy_4,no_rounds)"
   ]
  },
  {
   "cell_type": "code",
   "execution_count": null,
   "metadata": {
    "ExecuteTime": {
     "end_time": "2020-06-07T15:46:38.062796Z",
     "start_time": "2020-06-07T15:46:38.013Z"
    }
   },
   "outputs": [],
   "source": [
    "play_dice_game(selection_strategy_5,no_rounds)"
   ]
  },
  {
   "cell_type": "code",
   "execution_count": null,
   "metadata": {
    "ExecuteTime": {
     "end_time": "2020-06-07T15:46:38.063387Z",
     "start_time": "2020-06-07T15:46:38.015Z"
    }
   },
   "outputs": [],
   "source": [
    "play_dice_game(selection_strategy_6,no_rounds)"
   ]
  },
  {
   "cell_type": "code",
   "execution_count": null,
   "metadata": {
    "ExecuteTime": {
     "end_time": "2020-06-07T15:46:38.063977Z",
     "start_time": "2020-06-07T15:46:38.018Z"
    }
   },
   "outputs": [],
   "source": [
    "play_dice_game(selection_strategy_7,no_rounds)"
   ]
  },
  {
   "cell_type": "code",
   "execution_count": null,
   "metadata": {
    "ExecuteTime": {
     "end_time": "2020-06-07T15:46:38.064750Z",
     "start_time": "2020-06-07T15:46:38.021Z"
    }
   },
   "outputs": [],
   "source": [
    "play_dice_game(selection_strategy_8,no_rounds)"
   ]
  },
  {
   "cell_type": "code",
   "execution_count": null,
   "metadata": {
    "ExecuteTime": {
     "end_time": "2020-06-07T15:46:38.065391Z",
     "start_time": "2020-06-07T15:46:38.024Z"
    }
   },
   "outputs": [],
   "source": [
    "play_dice_game(selection_strategy_9,no_rounds)"
   ]
  },
  {
   "cell_type": "code",
   "execution_count": null,
   "metadata": {
    "ExecuteTime": {
     "end_time": "2020-06-07T15:46:38.065929Z",
     "start_time": "2020-06-07T15:46:38.026Z"
    }
   },
   "outputs": [],
   "source": [
    "play_dice_game(selection_strategy_10,no_rounds)"
   ]
  },
  {
   "cell_type": "markdown",
   "metadata": {},
   "source": [
    "## Graphs"
   ]
  },
  {
   "cell_type": "code",
   "execution_count": null,
   "metadata": {
    "ExecuteTime": {
     "end_time": "2020-06-07T15:46:38.066678Z",
     "start_time": "2020-06-07T15:46:38.029Z"
    }
   },
   "outputs": [],
   "source": [
    "#run simulations\n",
    "#iteration_no_arr = [10,100,200,300,400,500,600,700,800,900,1000]\n",
    "iteration_no_arr = np.arange(1,500)\n",
    "result_arr = []\n",
    "strategy_arr = [selection_strategy_1,selection_strategy_2,\\\n",
    "               selection_strategy_3,selection_strategy_4,\\\n",
    "               selection_strategy_5]\n",
    "\n",
    "for strategy in strategy_arr :\n",
    "    results = []\n",
    "\n",
    "    for i in iteration_no_arr:\n",
    "        results.append(play_dice_game(strategy,i))\n",
    "    \n",
    "    result_arr.append(results)"
   ]
  },
  {
   "cell_type": "code",
   "execution_count": null,
   "metadata": {
    "ExecuteTime": {
     "end_time": "2020-06-07T15:46:38.067504Z",
     "start_time": "2020-06-07T15:46:38.031Z"
    }
   },
   "outputs": [],
   "source": [
    "import matplotlib.pyplot as plt\n",
    "\n",
    "fig,ax = plt.subplots(figsize=((15,7)))\n",
    "plt.plot(iteration_no_arr,result_arr[0])\n",
    "plt.plot(iteration_no_arr,result_arr[1])\n",
    "plt.plot(iteration_no_arr,result_arr[2])\n",
    "plt.plot(iteration_no_arr,result_arr[3])\n",
    "plt.plot(iteration_no_arr,result_arr[4])\n",
    "plt.title('Avg number of throws to win\\n Per strategy')\n",
    "plt.xlabel('Iterations')\n",
    "plt.ylabel('Avg number of throws')\n",
    "plt.legend(['action_A','action_B','action_C','random','flip'])\n",
    "plt.show()"
   ]
  },
  {
   "cell_type": "code",
   "execution_count": null,
   "metadata": {
    "ExecuteTime": {
     "end_time": "2020-06-07T15:46:38.068080Z",
     "start_time": "2020-06-07T15:46:38.034Z"
    }
   },
   "outputs": [],
   "source": [
    "#run simulations\n",
    "iteration_no_arr = [10,1000,2000,3000,4000,5000,6000,7000,8000,9000,10000]\n",
    "#iteration_no_arr = np.arange(1,500)\n",
    "result_arr = []\n",
    "strategy_arr = [selection_strategy_1,selection_strategy_2,\\\n",
    "               selection_strategy_3,selection_strategy_4,\\\n",
    "               selection_strategy_5]\n",
    "\n",
    "for strategy in strategy_arr :\n",
    "    results = []\n",
    "\n",
    "    for i in iteration_no_arr:\n",
    "        results.append(play_dice_game(strategy,i))\n",
    "    \n",
    "    result_arr.append(results)"
   ]
  },
  {
   "cell_type": "code",
   "execution_count": null,
   "metadata": {
    "ExecuteTime": {
     "end_time": "2020-06-07T15:46:38.068591Z",
     "start_time": "2020-06-07T15:46:38.037Z"
    }
   },
   "outputs": [],
   "source": [
    "import matplotlib.pyplot as plt\n",
    "\n",
    "fig,ax = plt.subplots(figsize=((15,7)))\n",
    "plt.plot(iteration_no_arr,result_arr[0])\n",
    "plt.plot(iteration_no_arr,result_arr[1])\n",
    "plt.plot(iteration_no_arr,result_arr[2])\n",
    "plt.plot(iteration_no_arr,result_arr[3])\n",
    "plt.plot(iteration_no_arr,result_arr[4])\n",
    "plt.title('Avg number of throws to win\\n Per strategy')\n",
    "plt.xlabel('Iterations')\n",
    "plt.ylabel('Avg number of throws')\n",
    "plt.legend(['action_A','action_B','action_C','random','flip'])\n",
    "plt.show()"
   ]
  },
  {
   "cell_type": "markdown",
   "metadata": {
    "ExecuteTime": {
     "end_time": "2020-06-06T13:54:14.301335Z",
     "start_time": "2020-06-06T13:54:14.299228Z"
    }
   },
   "source": [
    "## 2 player setting"
   ]
  },
  {
   "cell_type": "code",
   "execution_count": null,
   "metadata": {
    "ExecuteTime": {
     "end_time": "2020-06-07T15:46:38.069193Z",
     "start_time": "2020-06-07T15:46:38.040Z"
    }
   },
   "outputs": [],
   "source": [
    "import random\n",
    "\n",
    "GOAL = 12\n",
    "action_A = {'reward':6, 'prob':1/6, 'match':[6]}\n",
    "action_B = {'reward':3, 'prob':1/3, 'match':[2,3]}\n",
    "action_C = {'reward':2, 'prob':1/2, 'match':[4,5,6]}\n",
    "actions = [action_A,action_B,action_C]"
   ]
  },
  {
   "cell_type": "code",
   "execution_count": null,
   "metadata": {
    "ExecuteTime": {
     "end_time": "2020-06-07T15:46:38.069811Z",
     "start_time": "2020-06-07T15:46:38.043Z"
    }
   },
   "outputs": [],
   "source": [
    "counter=0\n",
    "\n",
    "def selection_strategy_1(**kwargs):\n",
    "    return action_A\n",
    "\n",
    "def selection_strategy_2(**kwargs):\n",
    "    return action_B\n",
    "\n",
    "def selection_strategy_3(**kwargs):\n",
    "    return action_C\n",
    "\n",
    "def selection_strategy_4(**kwargs):\n",
    "    ix = random.randint(0,2)\n",
    "    return actions[ix]\n",
    "    \n",
    "def selection_strategy_5(**kwargs):\n",
    "    global counter\n",
    "    counter +=1\n",
    "    if counter%2 == 0:\n",
    "        return action_A\n",
    "    else:\n",
    "        return action_B\n",
    "    \n",
    "def selection_strategy_6(**kwargs):\n",
    "    return kwargs['sel_action_p1']"
   ]
  },
  {
   "cell_type": "code",
   "execution_count": null,
   "metadata": {
    "ExecuteTime": {
     "end_time": "2020-06-07T15:46:38.070496Z",
     "start_time": "2020-06-07T15:46:38.046Z"
    }
   },
   "outputs": [],
   "source": [
    "def play_dice_game_2p(selection_strategy_p1,selection_strategy_p2,iteration_no):\n",
    "    winner_array = []\n",
    "\n",
    "    for i in range(0,iteration_no):\n",
    "        profit_p1 = 0\n",
    "        profit_p2 = 0\n",
    "        rounds = 0\n",
    "        prev_action_p1 = actions[random.randint(0,2)]  #choose a random action to begin\n",
    "        prev_action_p2 = actions[random.randint(0,2)]  #choose a random action to begin\n",
    "        prev_dice_res = random.randint(1,6)\n",
    "\n",
    "        while profit_p1 < GOAL and profit_p2 < GOAL:\n",
    "            #select strategy\n",
    "            args_p1 = {'profit_p1':profit_p1,'profit_p2':profit_p2,\\\n",
    "                      'rounds':rounds, 'prev_action_p1':prev_action_p1,\\\n",
    "                      'prev_action_p2':prev_action_p2,\\\n",
    "                      'prev_dice_res':prev_dice_res}\n",
    "            sel_action_p1 = selection_strategy_p1(**args_p1)\n",
    "            args_p2 = {'profit_p1':profit_p1,'profit_p2':profit_p2,\\\n",
    "                      'rounds':rounds, 'prev_action_p1':prev_action_p1,\\\n",
    "                      'prev_action_p2':prev_action_p2,\\\n",
    "                      'prev_dice_res':prev_dice_res,\\\n",
    "                      'sel_action_p1':sel_action_p1}\n",
    "            sel_action_p2 = selection_strategy_p2(**args_p2)\n",
    "            \n",
    "            #check reward\n",
    "            dice_res = random.randint(1,6)\n",
    "            if dice_res in sel_action_p1['match']:\n",
    "                profit_p1 += sel_action_p1['reward']\n",
    "            if dice_res in sel_action_p2['match']:\n",
    "                profit_p2 += sel_action_p2['reward']\n",
    "\n",
    "            #update\n",
    "            rounds += 1\n",
    "            prev_action_1 = sel_action_p1\n",
    "            prev_action_2 = sel_action_p2\n",
    "            prev_dice_res = dice_res\n",
    "        \n",
    "        if profit_p1==profit_p2:\n",
    "            winner_array.append(0)\n",
    "        elif profit_p1>profit_p2:\n",
    "            winner_array.append(1)\n",
    "        elif profit_p1<profit_p2:\n",
    "            winner_array.append(2)\n",
    "            \n",
    "    #decide winner\n",
    "    winner_array = np.array(winner_array)\n",
    "    return winner_array"
   ]
  },
  {
   "cell_type": "code",
   "execution_count": null,
   "metadata": {
    "ExecuteTime": {
     "end_time": "2020-06-07T15:46:38.071222Z",
     "start_time": "2020-06-07T15:46:38.048Z"
    }
   },
   "outputs": [],
   "source": [
    "def chooseWinner(winner_arr):\n",
    "    \n",
    "    p2 = len(np.where(arr==2)[0])\n",
    "    p1 = len(np.where(arr==1)[0])\n",
    "    \n",
    "    if p1==p2:\n",
    "        print('Draw between player 1 and 2')\n",
    "\n",
    "    elif p1>p2:\n",
    "        print('Player 1 wins ' + str(p1) + ' vs. ' + str(p2))\n",
    "\n",
    "    elif p2>p1:\n",
    "        print('Player 2 wins ' + str(p2) + ' vs. ' + str(p1))\n"
   ]
  },
  {
   "cell_type": "code",
   "execution_count": null,
   "metadata": {
    "ExecuteTime": {
     "end_time": "2020-06-07T15:46:38.071810Z",
     "start_time": "2020-06-07T15:46:38.051Z"
    }
   },
   "outputs": [],
   "source": [
    "no_rounds = 1000\n",
    "arr = play_dice_game_2p(selection_strategy_1,selection_strategy_2,no_rounds)\n",
    "chooseWinner(arr)"
   ]
  },
  {
   "cell_type": "code",
   "execution_count": null,
   "metadata": {
    "ExecuteTime": {
     "end_time": "2020-06-07T15:46:38.072407Z",
     "start_time": "2020-06-07T15:46:38.053Z"
    }
   },
   "outputs": [],
   "source": [
    "no_rounds = 1000\n",
    "arr = play_dice_game_2p(selection_strategy_1,selection_strategy_3,no_rounds)\n",
    "chooseWinner(arr)"
   ]
  },
  {
   "cell_type": "code",
   "execution_count": null,
   "metadata": {
    "ExecuteTime": {
     "end_time": "2020-06-07T15:46:38.073003Z",
     "start_time": "2020-06-07T15:46:38.054Z"
    }
   },
   "outputs": [],
   "source": [
    "no_rounds = 1000\n",
    "arr = play_dice_game_2p(selection_strategy_1,selection_strategy_4,no_rounds)\n",
    "chooseWinner(arr)"
   ]
  },
  {
   "cell_type": "code",
   "execution_count": null,
   "metadata": {
    "ExecuteTime": {
     "end_time": "2020-06-07T15:46:38.073522Z",
     "start_time": "2020-06-07T15:46:38.057Z"
    }
   },
   "outputs": [],
   "source": [
    "no_rounds = 1000\n",
    "arr = play_dice_game_2p(selection_strategy_1,selection_strategy_5,no_rounds)\n",
    "chooseWinner(arr)"
   ]
  },
  {
   "cell_type": "code",
   "execution_count": null,
   "metadata": {
    "ExecuteTime": {
     "end_time": "2020-06-07T15:46:38.074142Z",
     "start_time": "2020-06-07T15:46:38.059Z"
    }
   },
   "outputs": [],
   "source": [
    "no_rounds = 1000\n",
    "arr = play_dice_game_2p(selection_strategy_3,selection_strategy_2,no_rounds)\n",
    "chooseWinner(arr)"
   ]
  },
  {
   "cell_type": "code",
   "execution_count": 6,
   "metadata": {
    "ExecuteTime": {
     "end_time": "2020-06-07T15:46:38.180327Z",
     "start_time": "2020-06-07T15:46:38.175799Z"
    }
   },
   "outputs": [
    {
     "ename": "NameError",
     "evalue": "name 'play_dice_game_2p' is not defined",
     "output_type": "error",
     "traceback": [
      "\u001b[0;31m---------------------------------------------------------------------------\u001b[0m",
      "\u001b[0;31mNameError\u001b[0m                                 Traceback (most recent call last)",
      "\u001b[0;32m<ipython-input-6-90d9c05e6be8>\u001b[0m in \u001b[0;36m<module>\u001b[0;34m\u001b[0m\n\u001b[1;32m      1\u001b[0m \u001b[0mno_rounds\u001b[0m \u001b[0;34m=\u001b[0m \u001b[0;36m1000\u001b[0m\u001b[0;34m\u001b[0m\u001b[0;34m\u001b[0m\u001b[0m\n\u001b[0;32m----> 2\u001b[0;31m \u001b[0marr\u001b[0m \u001b[0;34m=\u001b[0m \u001b[0mplay_dice_game_2p\u001b[0m\u001b[0;34m(\u001b[0m\u001b[0mselection_strategy_3\u001b[0m\u001b[0;34m,\u001b[0m\u001b[0mselection_strategy_6\u001b[0m\u001b[0;34m,\u001b[0m\u001b[0mno_rounds\u001b[0m\u001b[0;34m)\u001b[0m\u001b[0;34m\u001b[0m\u001b[0;34m\u001b[0m\u001b[0m\n\u001b[0m\u001b[1;32m      3\u001b[0m \u001b[0mchooseWinner\u001b[0m\u001b[0;34m(\u001b[0m\u001b[0marr\u001b[0m\u001b[0;34m)\u001b[0m\u001b[0;34m\u001b[0m\u001b[0;34m\u001b[0m\u001b[0m\n",
      "\u001b[0;31mNameError\u001b[0m: name 'play_dice_game_2p' is not defined"
     ]
    }
   ],
   "source": [
    "no_rounds = 1000\n",
    "arr = play_dice_game_2p(selection_strategy_3,selection_strategy_6,no_rounds)\n",
    "chooseWinner(arr)"
   ]
  },
  {
   "cell_type": "code",
   "execution_count": null,
   "metadata": {
    "ExecuteTime": {
     "end_time": "2020-06-07T15:46:38.181869Z",
     "start_time": "2020-06-07T15:46:38.063Z"
    }
   },
   "outputs": [],
   "source": [
    "no_rounds = 1000\n",
    "arr = play_dice_game_2p(selection_strategy_3,selection_strategy_6,no_rounds)\n",
    "chooseWinner(arr)"
   ]
  },
  {
   "cell_type": "markdown",
   "metadata": {},
   "source": [
    "## CMy verion"
   ]
  },
  {
   "cell_type": "code",
   "execution_count": null,
   "metadata": {
    "ExecuteTime": {
     "end_time": "2020-06-07T15:46:38.182572Z",
     "start_time": "2020-06-07T15:46:38.066Z"
    }
   },
   "outputs": [],
   "source": [
    "import random\n",
    "\n",
    "No_iter = 0\n",
    "GOAL = 12\n",
    "action_A = {'reward':7, 'prob':1/6, 'match':[6]}\n",
    "action_B = {'reward':5, 'prob':1/3, 'match':[2,3]}\n",
    "action_C = {'reward':4, 'prob':1/2, 'match':[4,5,6]}\n",
    "actions = [action_A,action_B,action_C]"
   ]
  },
  {
   "cell_type": "code",
   "execution_count": null,
   "metadata": {
    "ExecuteTime": {
     "end_time": "2020-06-07T15:46:38.183315Z",
     "start_time": "2020-06-07T15:46:38.068Z"
    }
   },
   "outputs": [],
   "source": [
    "def play_dice_game(selection_strategy,iteration_no):\n",
    "    dice_throws_arr = []\n",
    "\n",
    "    for i in range(0,iteration_no):\n",
    "        profit = 0\n",
    "        dice_throws = 0\n",
    "\n",
    "        while profit < GOAL:\n",
    "            sel_action = selection_strategy()\n",
    "            dice_res = random.randint(1,6)\n",
    "            if dice_res in sel_action['match']:\n",
    "                profit += sel_action['reward']\n",
    "            dice_throws += 1\n",
    "        \n",
    "        dice_throws_arr.append(dice_throws)\n",
    "    \n",
    "    return np.mean(dice_throws_arr)"
   ]
  },
  {
   "cell_type": "code",
   "execution_count": null,
   "metadata": {
    "ExecuteTime": {
     "end_time": "2020-06-07T15:46:38.184162Z",
     "start_time": "2020-06-07T15:46:38.071Z"
    }
   },
   "outputs": [],
   "source": [
    "counter=0\n",
    "\n",
    "def selection_strategy_1():\n",
    "    return action_A\n",
    "\n",
    "def selection_strategy_2():\n",
    "    return action_B\n",
    "\n",
    "def selection_strategy_3():\n",
    "    return action_C\n",
    "\n",
    "def selection_strategy_4():\n",
    "    ix = random.randint(0,2)\n",
    "    return actions[ix]\n",
    "\n",
    "def selection_strategy_4():\n",
    "    ix = random.randint(0,2)\n",
    "    return actions[ix]\n",
    "    \n",
    "def selection_strategy_5():\n",
    "    global counter\n",
    "    counter +=1\n",
    "    if counter%2 == 0:\n",
    "        return action_A\n",
    "    else:\n",
    "        return action_B"
   ]
  },
  {
   "cell_type": "code",
   "execution_count": null,
   "metadata": {
    "ExecuteTime": {
     "end_time": "2020-06-07T15:46:38.185009Z",
     "start_time": "2020-06-07T15:46:38.073Z"
    }
   },
   "outputs": [],
   "source": [
    "def play_dice_game(selection_strategy,iteration_no):\n",
    "    dice_throws_arr = []\n",
    "\n",
    "    for i in range(0,iteration_no):\n",
    "        profit = 0\n",
    "        dice_throws = 0\n",
    "\n",
    "        while profit < GOAL:\n",
    "            sel_action = selection_strategy()\n",
    "            dice_res = random.randint(1,6)\n",
    "            if dice_res in sel_action['match']:\n",
    "                profit += sel_action['reward']\n",
    "            dice_throws += 1\n",
    "        \n",
    "        dice_throws_arr.append(dice_throws)\n",
    "    \n",
    "    return np.mean(dice_throws_arr)"
   ]
  },
  {
   "cell_type": "code",
   "execution_count": null,
   "metadata": {
    "ExecuteTime": {
     "end_time": "2020-06-07T15:46:38.186142Z",
     "start_time": "2020-06-07T15:46:38.076Z"
    }
   },
   "outputs": [],
   "source": [
    "#run simulations\n",
    "#iteration_no_arr = [10,100,200,300,400,500,600,700,800,900,1000]\n",
    "iteration_no_arr = np.arange(1,30)\n",
    "result_arr = []\n",
    "strategy_arr = [selection_strategy_1,selection_strategy_2,\\\n",
    "               selection_strategy_3,selection_strategy_4,\\\n",
    "               selection_strategy_5]\n",
    "\n",
    "for strategy in strategy_arr :\n",
    "    results = []\n",
    "\n",
    "    for i in iteration_no_arr:\n",
    "        results.append(play_dice_game(strategy,i))\n",
    "    \n",
    "    result_arr.append(results)"
   ]
  },
  {
   "cell_type": "code",
   "execution_count": null,
   "metadata": {
    "ExecuteTime": {
     "end_time": "2020-06-07T15:46:38.186986Z",
     "start_time": "2020-06-07T15:46:38.078Z"
    }
   },
   "outputs": [],
   "source": [
    "import matplotlib.pyplot as plt\n",
    "\n",
    "fig,ax = plt.subplots(figsize=((15,7)))\n",
    "plt.plot(iteration_no_arr,result_arr[0])\n",
    "plt.plot(iteration_no_arr,result_arr[1])\n",
    "plt.plot(iteration_no_arr,result_arr[2])\n",
    "plt.plot(iteration_no_arr,result_arr[3])\n",
    "plt.plot(iteration_no_arr,result_arr[4])\n",
    "plt.title('Avg number of throws to win\\n Per strategy')\n",
    "plt.xlabel('Iterations')\n",
    "plt.ylabel('Avg number of throws')\n",
    "plt.legend(['action_A','action_B','action_C','random','flip'])\n",
    "plt.show()"
   ]
  },
  {
   "cell_type": "markdown",
   "metadata": {},
   "source": [
    "# Probs"
   ]
  },
  {
   "cell_type": "code",
   "execution_count": 55,
   "metadata": {
    "ExecuteTime": {
     "end_time": "2020-06-13T09:02:35.634018Z",
     "start_time": "2020-06-13T09:02:35.621345Z"
    }
   },
   "outputs": [],
   "source": [
    "import random\n",
    "\n",
    "GOAL = 12\n",
    "action_A = {'reward':6, 'prob':1/6, 'match':[1]}\n",
    "action_B = {'reward':3, 'prob':1/3, 'match':[2,3]}\n",
    "action_C = {'reward':2, 'prob':1/2, 'match':[4,5,6]}\n",
    "actions = [action_A,action_B,action_C]"
   ]
  },
  {
   "cell_type": "code",
   "execution_count": 56,
   "metadata": {
    "ExecuteTime": {
     "end_time": "2020-06-13T09:02:36.194394Z",
     "start_time": "2020-06-13T09:02:36.185693Z"
    }
   },
   "outputs": [],
   "source": [
    "#Action A\n",
    "from math import comb\n",
    "\n",
    "r = 2\n",
    "p = 1/6\n",
    "q = 1 - p\n",
    "a_prob_array = list(np.zeros(r-1))\n",
    "\n",
    "for n in range(r,20):\n",
    "    r = 2\n",
    "    prob = 0\n",
    "    while n>=r:\n",
    "        #print(r)\n",
    "        prob_exactr = comb(n,r) * pow(p,r) * pow(q,n-r)\n",
    "        prob += prob_exactr\n",
    "        r+=1\n",
    "    a_prob_array.append(prob)"
   ]
  },
  {
   "cell_type": "code",
   "execution_count": 57,
   "metadata": {
    "ExecuteTime": {
     "end_time": "2020-06-13T09:02:36.419026Z",
     "start_time": "2020-06-13T09:02:36.415870Z"
    }
   },
   "outputs": [],
   "source": [
    "#Action B\n",
    "from math import comb\n",
    "\n",
    "r = 4\n",
    "p = 1/3\n",
    "q = 1 - p\n",
    "b_prob_array = list(np.zeros(r-1))\n",
    "\n",
    "for n in range(r,20):\n",
    "    r = 4\n",
    "    prob = 0\n",
    "    while n>=r:\n",
    "        #print(r)\n",
    "        prob_exactr = comb(n,r) * pow(p,r) * pow(q,n-r)\n",
    "        prob += prob_exactr\n",
    "        r+=1\n",
    "    b_prob_array.append(prob)\n"
   ]
  },
  {
   "cell_type": "code",
   "execution_count": 58,
   "metadata": {
    "ExecuteTime": {
     "end_time": "2020-06-13T09:02:36.607176Z",
     "start_time": "2020-06-13T09:02:36.603716Z"
    }
   },
   "outputs": [],
   "source": [
    "#Action C\n",
    "from math import comb\n",
    "\n",
    "r = 6\n",
    "p = 1/2\n",
    "q = 1 - p\n",
    "c_prob_array = list(np.zeros(r-1))\n",
    "\n",
    "for n in range(r,20):\n",
    "    r = 6\n",
    "    prob = 0\n",
    "    while n>=r:\n",
    "        #print(r)\n",
    "        prob_exactr = comb(n,r) * pow(p,r) * pow(q,n-r)\n",
    "        prob += prob_exactr\n",
    "        r+=1\n",
    "    c_prob_array.append(prob)\n"
   ]
  },
  {
   "cell_type": "code",
   "execution_count": 59,
   "metadata": {
    "ExecuteTime": {
     "end_time": "2020-06-13T09:02:37.074788Z",
     "start_time": "2020-06-13T09:02:37.068367Z"
    }
   },
   "outputs": [
    {
     "data": {
      "text/plain": [
       "19"
      ]
     },
     "execution_count": 59,
     "metadata": {},
     "output_type": "execute_result"
    }
   ],
   "source": [
    "len(a_prob_array)"
   ]
  },
  {
   "cell_type": "code",
   "execution_count": 60,
   "metadata": {
    "ExecuteTime": {
     "end_time": "2020-06-13T09:02:37.523679Z",
     "start_time": "2020-06-13T09:02:37.495506Z"
    },
    "scrolled": true
   },
   "outputs": [
    {
     "data": {
      "text/html": [
       "<div>\n",
       "<style scoped>\n",
       "    .dataframe tbody tr th:only-of-type {\n",
       "        vertical-align: middle;\n",
       "    }\n",
       "\n",
       "    .dataframe tbody tr th {\n",
       "        vertical-align: top;\n",
       "    }\n",
       "\n",
       "    .dataframe thead th {\n",
       "        text-align: right;\n",
       "    }\n",
       "</style>\n",
       "<table border=\"1\" class=\"dataframe\">\n",
       "  <thead>\n",
       "    <tr style=\"text-align: right;\">\n",
       "      <th></th>\n",
       "      <th>1</th>\n",
       "      <th>2</th>\n",
       "      <th>3</th>\n",
       "      <th>4</th>\n",
       "      <th>5</th>\n",
       "      <th>6</th>\n",
       "      <th>7</th>\n",
       "      <th>8</th>\n",
       "      <th>9</th>\n",
       "      <th>10</th>\n",
       "      <th>11</th>\n",
       "      <th>12</th>\n",
       "      <th>13</th>\n",
       "      <th>14</th>\n",
       "      <th>15</th>\n",
       "      <th>16</th>\n",
       "      <th>17</th>\n",
       "      <th>18</th>\n",
       "      <th>19</th>\n",
       "    </tr>\n",
       "  </thead>\n",
       "  <tbody>\n",
       "    <tr>\n",
       "      <th>Action A</th>\n",
       "      <td>0.0</td>\n",
       "      <td>0.027778</td>\n",
       "      <td>0.074074</td>\n",
       "      <td>0.131944</td>\n",
       "      <td>0.196245</td>\n",
       "      <td>0.263224</td>\n",
       "      <td>0.330204</td>\n",
       "      <td>0.395323</td>\n",
       "      <td>0.457341</td>\n",
       "      <td>0.515483</td>\n",
       "      <td>0.569318</td>\n",
       "      <td>0.618667</td>\n",
       "      <td>0.663530</td>\n",
       "      <td>0.704031</td>\n",
       "      <td>0.740378</td>\n",
       "      <td>0.772831</td>\n",
       "      <td>0.801678</td>\n",
       "      <td>0.827219</td>\n",
       "      <td>0.849756</td>\n",
       "    </tr>\n",
       "    <tr>\n",
       "      <th>Action B</th>\n",
       "      <td>0.0</td>\n",
       "      <td>0.000000</td>\n",
       "      <td>0.000000</td>\n",
       "      <td>0.012346</td>\n",
       "      <td>0.045267</td>\n",
       "      <td>0.100137</td>\n",
       "      <td>0.173297</td>\n",
       "      <td>0.258650</td>\n",
       "      <td>0.349693</td>\n",
       "      <td>0.440736</td>\n",
       "      <td>0.527443</td>\n",
       "      <td>0.606925</td>\n",
       "      <td>0.677576</td>\n",
       "      <td>0.738807</td>\n",
       "      <td>0.790760</td>\n",
       "      <td>0.834054</td>\n",
       "      <td>0.869578</td>\n",
       "      <td>0.898335</td>\n",
       "      <td>0.921341</td>\n",
       "    </tr>\n",
       "    <tr>\n",
       "      <th>Action C</th>\n",
       "      <td>0.0</td>\n",
       "      <td>0.000000</td>\n",
       "      <td>0.000000</td>\n",
       "      <td>0.000000</td>\n",
       "      <td>0.000000</td>\n",
       "      <td>0.015625</td>\n",
       "      <td>0.062500</td>\n",
       "      <td>0.144531</td>\n",
       "      <td>0.253906</td>\n",
       "      <td>0.376953</td>\n",
       "      <td>0.500000</td>\n",
       "      <td>0.612793</td>\n",
       "      <td>0.709473</td>\n",
       "      <td>0.788025</td>\n",
       "      <td>0.849121</td>\n",
       "      <td>0.894943</td>\n",
       "      <td>0.928268</td>\n",
       "      <td>0.951874</td>\n",
       "      <td>0.968216</td>\n",
       "    </tr>\n",
       "  </tbody>\n",
       "</table>\n",
       "</div>"
      ],
      "text/plain": [
       "           1         2         3         4         5         6         7   \\\n",
       "Action A  0.0  0.027778  0.074074  0.131944  0.196245  0.263224  0.330204   \n",
       "Action B  0.0  0.000000  0.000000  0.012346  0.045267  0.100137  0.173297   \n",
       "Action C  0.0  0.000000  0.000000  0.000000  0.000000  0.015625  0.062500   \n",
       "\n",
       "                8         9         10        11        12        13  \\\n",
       "Action A  0.395323  0.457341  0.515483  0.569318  0.618667  0.663530   \n",
       "Action B  0.258650  0.349693  0.440736  0.527443  0.606925  0.677576   \n",
       "Action C  0.144531  0.253906  0.376953  0.500000  0.612793  0.709473   \n",
       "\n",
       "                14        15        16        17        18        19  \n",
       "Action A  0.704031  0.740378  0.772831  0.801678  0.827219  0.849756  \n",
       "Action B  0.738807  0.790760  0.834054  0.869578  0.898335  0.921341  \n",
       "Action C  0.788025  0.849121  0.894943  0.928268  0.951874  0.968216  "
      ]
     },
     "execution_count": 60,
     "metadata": {},
     "output_type": "execute_result"
    }
   ],
   "source": [
    "import pandas as pd\n",
    "\n",
    "prob_dict = {'Action A':a_prob_array,'Action B':b_prob_array,'Action C':c_prob_array}\n",
    "df = pd.DataFrame(prob_dict)\n",
    "df.index = list(map(lambda x:x+1, df.index.astype(int).values))\n",
    "df.T"
   ]
  },
  {
   "cell_type": "code",
   "execution_count": 61,
   "metadata": {
    "ExecuteTime": {
     "end_time": "2020-06-13T09:02:38.327263Z",
     "start_time": "2020-06-13T09:02:38.173537Z"
    },
    "scrolled": true
   },
   "outputs": [
    {
     "data": {
      "image/png": "[encoded data removed]",
      "text/plain": [
       "<Figure size 1080x504 with 1 Axes>"
      ]
     },
     "metadata": {
      "needs_background": "light"
     },
     "output_type": "display_data"
    }
   ],
   "source": [
    "import matplotlib.pyplot as plt\n",
    "\n",
    "fig,ax = plt.subplots(figsize=((15,7)))\n",
    "plt.plot(np.arange(1,20),a_prob_array)\n",
    "plt.plot(np.arange(1,20),b_prob_array)\n",
    "plt.plot(np.arange(1,20),c_prob_array)\n",
    "plt.title('Cumulative probability of getting at least r rewarded results for n throws')\n",
    "plt.xlabel('Number of throws')\n",
    "plt.ylabel('Cumulative probability of getting at least r rewarded results')\n",
    "plt.legend(['action_A','action_B','action_C','random','flip'])\n",
    "plt.show()"
   ]
  },
  {
   "cell_type": "code",
   "execution_count": 62,
   "metadata": {
    "ExecuteTime": {
     "end_time": "2020-06-13T09:02:42.740592Z",
     "start_time": "2020-06-13T09:02:42.735964Z"
    }
   },
   "outputs": [
    {
     "data": {
      "text/plain": [
       "1.4769600630072753e-14"
      ]
     },
     "execution_count": 62,
     "metadata": {},
     "output_type": "execute_result"
    }
   ],
   "source": [
    "p = 1/6\n",
    "q = 1-p\n",
    "\n",
    "comb(10,2)*pow(p,r)*pow(q,n-r)"
   ]
  },
  {
   "cell_type": "code",
   "execution_count": 63,
   "metadata": {
    "ExecuteTime": {
     "end_time": "2020-06-13T09:02:44.027936Z",
     "start_time": "2020-06-13T09:02:44.020924Z"
    }
   },
   "outputs": [
    {
     "ename": "NameError",
     "evalue": "name 'v' is not defined",
     "output_type": "error",
     "traceback": [
      "\u001b[0;31m---------------------------------------------------------------------------\u001b[0m",
      "\u001b[0;31mNameError\u001b[0m                                 Traceback (most recent call last)",
      "\u001b[0;32m<ipython-input-63-d0aa4386ac53>\u001b[0m in \u001b[0;36m<module>\u001b[0;34m\u001b[0m\n\u001b[0;32m----> 1\u001b[0;31m \u001b[0mv\u001b[0m\u001b[0;34m\u001b[0m\u001b[0;34m\u001b[0m\u001b[0m\n\u001b[0m",
      "\u001b[0;31mNameError\u001b[0m: name 'v' is not defined"
     ]
    }
   ],
   "source": [
    "v"
   ]
  },
  {
   "cell_type": "markdown",
   "metadata": {},
   "source": [
    "# Probs"
   ]
  },
  {
   "cell_type": "code",
   "execution_count": 64,
   "metadata": {
    "ExecuteTime": {
     "end_time": "2020-06-13T09:02:44.538479Z",
     "start_time": "2020-06-13T09:02:44.535312Z"
    }
   },
   "outputs": [],
   "source": [
    "#Action A\n",
    "from math import comb\n",
    "\n",
    "r = 1\n",
    "p = 1/6\n",
    "q = 1 - p\n",
    "a_prob_array = list(np.zeros(r-1))\n",
    "\n",
    "for n in range(r,20):\n",
    "    r = 1\n",
    "    prob = 0\n",
    "    while n>=r:\n",
    "        #print(r)\n",
    "        prob_exactr = comb(n,r) * pow(p,r) * pow(q,n-r)\n",
    "        prob += prob_exactr\n",
    "        r+=1\n",
    "    a_prob_array.append(prob)"
   ]
  },
  {
   "cell_type": "code",
   "execution_count": 65,
   "metadata": {
    "ExecuteTime": {
     "end_time": "2020-06-13T09:02:44.862695Z",
     "start_time": "2020-06-13T09:02:44.856492Z"
    }
   },
   "outputs": [],
   "source": [
    "#Action B\n",
    "from math import comb\n",
    "\n",
    "r = 2\n",
    "p = 1/3\n",
    "q = 1 - p\n",
    "b_prob_array = list(np.zeros(r-1))\n",
    "\n",
    "for n in range(r,20):\n",
    "    r = 2\n",
    "    prob = 0\n",
    "    while n>=r:\n",
    "        #print(r)\n",
    "        prob_exactr = comb(n,r) * pow(p,r) * pow(q,n-r)\n",
    "        prob += prob_exactr\n",
    "        r+=1\n",
    "    b_prob_array.append(prob)\n"
   ]
  },
  {
   "cell_type": "code",
   "execution_count": 66,
   "metadata": {
    "ExecuteTime": {
     "end_time": "2020-06-13T09:02:45.098742Z",
     "start_time": "2020-06-13T09:02:45.095585Z"
    }
   },
   "outputs": [],
   "source": [
    "#Action C\n",
    "from math import comb\n",
    "\n",
    "r = 3\n",
    "p = 1/2\n",
    "q = 1 - p\n",
    "c_prob_array = list(np.zeros(r-1))\n",
    "\n",
    "for n in range(r,20):\n",
    "    r = 3\n",
    "    prob = 0\n",
    "    while n>=r:\n",
    "        #print(r)\n",
    "        prob_exactr = comb(n,r) * pow(p,r) * pow(q,n-r)\n",
    "        prob += prob_exactr\n",
    "        r+=1\n",
    "    c_prob_array.append(prob)\n"
   ]
  },
  {
   "cell_type": "code",
   "execution_count": 67,
   "metadata": {
    "ExecuteTime": {
     "end_time": "2020-06-13T09:02:45.494744Z",
     "start_time": "2020-06-13T09:02:45.489777Z"
    }
   },
   "outputs": [
    {
     "data": {
      "text/plain": [
       "19"
      ]
     },
     "execution_count": 67,
     "metadata": {},
     "output_type": "execute_result"
    }
   ],
   "source": [
    "len(a_prob_array)"
   ]
  },
  {
   "cell_type": "code",
   "execution_count": 68,
   "metadata": {
    "ExecuteTime": {
     "end_time": "2020-06-13T09:02:45.890530Z",
     "start_time": "2020-06-13T09:02:45.874732Z"
    },
    "scrolled": true
   },
   "outputs": [
    {
     "data": {
      "text/html": [
       "<div>\n",
       "<style scoped>\n",
       "    .dataframe tbody tr th:only-of-type {\n",
       "        vertical-align: middle;\n",
       "    }\n",
       "\n",
       "    .dataframe tbody tr th {\n",
       "        vertical-align: top;\n",
       "    }\n",
       "\n",
       "    .dataframe thead th {\n",
       "        text-align: right;\n",
       "    }\n",
       "</style>\n",
       "<table border=\"1\" class=\"dataframe\">\n",
       "  <thead>\n",
       "    <tr style=\"text-align: right;\">\n",
       "      <th></th>\n",
       "      <th>1</th>\n",
       "      <th>2</th>\n",
       "      <th>3</th>\n",
       "      <th>4</th>\n",
       "      <th>5</th>\n",
       "      <th>6</th>\n",
       "      <th>7</th>\n",
       "      <th>8</th>\n",
       "      <th>9</th>\n",
       "      <th>10</th>\n",
       "      <th>11</th>\n",
       "      <th>12</th>\n",
       "      <th>13</th>\n",
       "      <th>14</th>\n",
       "      <th>15</th>\n",
       "      <th>16</th>\n",
       "      <th>17</th>\n",
       "      <th>18</th>\n",
       "      <th>19</th>\n",
       "    </tr>\n",
       "  </thead>\n",
       "  <tbody>\n",
       "    <tr>\n",
       "      <th>Action A</th>\n",
       "      <td>0.166667</td>\n",
       "      <td>0.305556</td>\n",
       "      <td>0.421296</td>\n",
       "      <td>0.517747</td>\n",
       "      <td>0.598122</td>\n",
       "      <td>0.665102</td>\n",
       "      <td>0.720918</td>\n",
       "      <td>0.767432</td>\n",
       "      <td>0.806193</td>\n",
       "      <td>0.838494</td>\n",
       "      <td>0.865412</td>\n",
       "      <td>0.887843</td>\n",
       "      <td>0.906536</td>\n",
       "      <td>0.922113</td>\n",
       "      <td>0.935095</td>\n",
       "      <td>0.945912</td>\n",
       "      <td>0.954927</td>\n",
       "      <td>0.962439</td>\n",
       "      <td>0.968699</td>\n",
       "    </tr>\n",
       "    <tr>\n",
       "      <th>Action B</th>\n",
       "      <td>0.000000</td>\n",
       "      <td>0.111111</td>\n",
       "      <td>0.259259</td>\n",
       "      <td>0.407407</td>\n",
       "      <td>0.539095</td>\n",
       "      <td>0.648834</td>\n",
       "      <td>0.736626</td>\n",
       "      <td>0.804908</td>\n",
       "      <td>0.856932</td>\n",
       "      <td>0.895951</td>\n",
       "      <td>0.924853</td>\n",
       "      <td>0.946049</td>\n",
       "      <td>0.961463</td>\n",
       "      <td>0.972596</td>\n",
       "      <td>0.980589</td>\n",
       "      <td>0.986298</td>\n",
       "      <td>0.990358</td>\n",
       "      <td>0.993234</td>\n",
       "      <td>0.995264</td>\n",
       "    </tr>\n",
       "    <tr>\n",
       "      <th>Action C</th>\n",
       "      <td>0.000000</td>\n",
       "      <td>0.000000</td>\n",
       "      <td>0.125000</td>\n",
       "      <td>0.312500</td>\n",
       "      <td>0.500000</td>\n",
       "      <td>0.656250</td>\n",
       "      <td>0.773438</td>\n",
       "      <td>0.855469</td>\n",
       "      <td>0.910156</td>\n",
       "      <td>0.945312</td>\n",
       "      <td>0.967285</td>\n",
       "      <td>0.980713</td>\n",
       "      <td>0.988770</td>\n",
       "      <td>0.993530</td>\n",
       "      <td>0.996307</td>\n",
       "      <td>0.997910</td>\n",
       "      <td>0.998825</td>\n",
       "      <td>0.999344</td>\n",
       "      <td>0.999636</td>\n",
       "    </tr>\n",
       "  </tbody>\n",
       "</table>\n",
       "</div>"
      ],
      "text/plain": [
       "                1         2         3         4         5         6   \\\n",
       "Action A  0.166667  0.305556  0.421296  0.517747  0.598122  0.665102   \n",
       "Action B  0.000000  0.111111  0.259259  0.407407  0.539095  0.648834   \n",
       "Action C  0.000000  0.000000  0.125000  0.312500  0.500000  0.656250   \n",
       "\n",
       "                7         8         9         10        11        12  \\\n",
       "Action A  0.720918  0.767432  0.806193  0.838494  0.865412  0.887843   \n",
       "Action B  0.736626  0.804908  0.856932  0.895951  0.924853  0.946049   \n",
       "Action C  0.773438  0.855469  0.910156  0.945312  0.967285  0.980713   \n",
       "\n",
       "                13        14        15        16        17        18        19  \n",
       "Action A  0.906536  0.922113  0.935095  0.945912  0.954927  0.962439  0.968699  \n",
       "Action B  0.961463  0.972596  0.980589  0.986298  0.990358  0.993234  0.995264  \n",
       "Action C  0.988770  0.993530  0.996307  0.997910  0.998825  0.999344  0.999636  "
      ]
     },
     "execution_count": 68,
     "metadata": {},
     "output_type": "execute_result"
    }
   ],
   "source": [
    "import pandas as pd\n",
    "\n",
    "prob_dict = {'Action A':a_prob_array,'Action B':b_prob_array,'Action C':c_prob_array}\n",
    "df = pd.DataFrame(prob_dict)\n",
    "df.index = list(map(lambda x:x+1, df.index.astype(int).values))\n",
    "df.T"
   ]
  },
  {
   "cell_type": "code",
   "execution_count": 69,
   "metadata": {
    "ExecuteTime": {
     "end_time": "2020-06-13T09:02:46.808246Z",
     "start_time": "2020-06-13T09:02:46.661595Z"
    },
    "scrolled": true
   },
   "outputs": [
    {
     "data": {
      "image/png": "[encoded data removed]",
      "text/plain": [
       "<Figure size 1080x504 with 1 Axes>"
      ]
     },
     "metadata": {
      "needs_background": "light"
     },
     "output_type": "display_data"
    }
   ],
   "source": [
    "import matplotlib.pyplot as plt\n",
    "\n",
    "fig,ax = plt.subplots(figsize=((15,7)))\n",
    "plt.plot(np.arange(1,20),a_prob_array)\n",
    "plt.plot(np.arange(1,20),b_prob_array)\n",
    "plt.plot(np.arange(1,20),c_prob_array)\n",
    "plt.title('Cumulative probability of getting at least r rewarded results for n throws')\n",
    "plt.xlabel('Number of throws')\n",
    "plt.ylabel('Cumulative probability of getting at least r rewarded results')\n",
    "plt.legend(['action_A','action_B','action_C','random','flip'])\n",
    "plt.show()"
   ]
  },
  {
   "cell_type": "code",
   "execution_count": 70,
   "metadata": {
    "ExecuteTime": {
     "end_time": "2020-06-13T09:03:43.517483Z",
     "start_time": "2020-06-13T09:03:43.514611Z"
    }
   },
   "outputs": [
    {
     "data": {
      "text/plain": [
       "1.4769600630072753e-14"
      ]
     },
     "execution_count": 70,
     "metadata": {},
     "output_type": "execute_result"
    }
   ],
   "source": [
    "p = 1/6\n",
    "q = 1-p\n",
    "\n",
    "comb(10,2)*pow(p,r)*pow(q,n-r)"
   ]
  },
  {
   "cell_type": "code",
   "execution_count": null,
   "metadata": {},
   "outputs": [],
   "source": [
    "1/6*"
   ]
  },
  {
   "cell_type": "markdown",
   "metadata": {},
   "source": [
    "# Reinforcement learning"
   ]
  },
  {
   "cell_type": "code",
   "execution_count": 51,
   "metadata": {
    "ExecuteTime": {
     "end_time": "2020-06-13T08:05:17.477237Z",
     "start_time": "2020-06-13T08:05:17.465163Z"
    }
   },
   "outputs": [],
   "source": [
    "import gym"
   ]
  },
  {
   "cell_type": "code",
   "execution_count": 247,
   "metadata": {
    "ExecuteTime": {
     "end_time": "2020-06-13T14:15:54.801786Z",
     "start_time": "2020-06-13T14:15:54.786160Z"
    },
    "code_folding": []
   },
   "outputs": [],
   "source": [
    "import gym\n",
    "from gym import spaces\n",
    "import random\n",
    "\n",
    "#global vars\n",
    "GOAL = 13\n",
    "ACTION_A = {'reward':6, 'prob':1/6, 'match':[1]}\n",
    "ACTION_B = {'reward':3, 'prob':1/3, 'match':[2,3]}\n",
    "ACTION_C = {'reward':2, 'prob':1/2, 'match':[4,5,6]}\n",
    "ACTIONS = [ACTION_A,ACTION_B,ACTION_C]\n",
    "MAX_REWARD = 6\n",
    "    \n",
    "class DiceGameEnv(gym.Env):\n",
    "    \"\"\"Custom Environment that follows gym interface\"\"\"\n",
    "    metadata = {'render.modes': ['human']}\n",
    "    profit = 0\n",
    "    rounds = 0\n",
    "    prev_dice_res = 0\n",
    "\n",
    "    def __init__(self):\n",
    "        super(DiceGameEnv, self).__init__()    # Define action and observation space\n",
    "        # They must be gym.spaces objects    # Example when using discrete actions:\n",
    "        self.profit = 0\n",
    "        self.rounds = 0\n",
    "        self.prev_dice_res = 0\n",
    "        self.action_space = spaces.Discrete(len(ACTIONS))    # Example for using image as input:\n",
    "        self.observation_space = spaces.Discrete(GOAL)\n",
    "\n",
    "    def step(self, action):\n",
    "        # Execute one time step within the environment\n",
    "        #roll dice\n",
    "        self.prev_dice_res = random.randint(1,6)\n",
    "        self.rounds += 1\n",
    "        \n",
    "        #add profit\n",
    "        if self.prev_dice_res in action['match'] and self.profit<GOAL:\n",
    "            self.profit += action['reward']\n",
    "    \n",
    "        #determine reward\n",
    "        if self.profit == 12:\n",
    "            reward = 1\n",
    "        else:\n",
    "            reward = 0\n",
    "        \n",
    "        # find out if finished\n",
    "        done = bool(self.profit == 12)\n",
    "        \n",
    "        # Optionally we can pass additional info, we are not using that for now\n",
    "        info = {}\n",
    "        \n",
    "        return np.array([self.profit]).astype(np.float32), reward, done, info\n",
    "    \n",
    "    def reset(self):\n",
    "        # Reset the state of the environment to an initial state\n",
    "        self.profit = 0\n",
    "        self.rounds = 0\n",
    "        self.prev_dice_res = 0\n",
    "        \n",
    "        return np.array([self.profit]).astype(np.float32)\n",
    "        \n",
    "\n",
    "    def render(self, mode='human', close=False):\n",
    "        # Render the environment to the screen\n",
    "        print(\"dice: %d\" %self.prev_dice_res, end=\" | \")\n",
    "        print(\"profit: %d\" %self.profit)\n",
    " \n",
    "    def close(self):\n",
    "        pass\n"
   ]
  },
  {
   "cell_type": "code",
   "execution_count": 248,
   "metadata": {
    "ExecuteTime": {
     "end_time": "2020-06-13T14:15:54.999775Z",
     "start_time": "2020-06-13T14:15:54.995683Z"
    }
   },
   "outputs": [
    {
     "name": "stdout",
     "output_type": "stream",
     "text": [
      "dice: 0 | profit: 0\n",
      "Discrete(13)\n",
      "Discrete(3)\n",
      "0\n"
     ]
    }
   ],
   "source": [
    "env = DiceGameEnv()\n",
    "obs = env.reset()\n",
    "env.render()\n",
    "\n",
    "print(env.observation_space)\n",
    "print(env.action_space)\n",
    "print(env.action_space.sample())"
   ]
  },
  {
   "cell_type": "code",
   "execution_count": 249,
   "metadata": {
    "ExecuteTime": {
     "end_time": "2020-06-13T14:15:55.155759Z",
     "start_time": "2020-06-13T14:15:55.141642Z"
    }
   },
   "outputs": [
    {
     "name": "stdout",
     "output_type": "stream",
     "text": [
      "Step 1\n",
      "obs= [0.] reward= 0 done= False\n",
      "dice: 5 | profit: 0\n",
      "Step 2\n",
      "obs= [0.] reward= 0 done= False\n",
      "dice: 4 | profit: 0\n",
      "Step 3\n",
      "obs= [0.] reward= 0 done= False\n",
      "dice: 4 | profit: 0\n",
      "Step 4\n",
      "obs= [0.] reward= 0 done= False\n",
      "dice: 3 | profit: 0\n",
      "Step 5\n",
      "obs= [0.] reward= 0 done= False\n",
      "dice: 2 | profit: 0\n",
      "Step 6\n",
      "obs= [0.] reward= 0 done= False\n",
      "dice: 4 | profit: 0\n",
      "Step 7\n",
      "obs= [0.] reward= 0 done= False\n",
      "dice: 6 | profit: 0\n",
      "Step 8\n",
      "obs= [0.] reward= 0 done= False\n",
      "dice: 3 | profit: 0\n",
      "Step 9\n",
      "obs= [6.] reward= 0 done= False\n",
      "dice: 1 | profit: 6\n",
      "Step 10\n",
      "obs= [6.] reward= 0 done= False\n",
      "dice: 3 | profit: 6\n",
      "Step 11\n",
      "obs= [6.] reward= 0 done= False\n",
      "dice: 3 | profit: 6\n",
      "Step 12\n",
      "obs= [6.] reward= 0 done= False\n",
      "dice: 3 | profit: 6\n",
      "Step 13\n",
      "obs= [6.] reward= 0 done= False\n",
      "dice: 4 | profit: 6\n",
      "Step 14\n",
      "obs= [6.] reward= 0 done= False\n",
      "dice: 3 | profit: 6\n",
      "Step 15\n",
      "obs= [6.] reward= 0 done= False\n",
      "dice: 2 | profit: 6\n",
      "Step 16\n",
      "obs= [6.] reward= 0 done= False\n",
      "dice: 6 | profit: 6\n",
      "Step 17\n",
      "obs= [12.] reward= 1 done= True\n",
      "dice: 1 | profit: 12\n",
      "Goal reached! reward= 1\n"
     ]
    }
   ],
   "source": [
    "n_steps = 50\n",
    "for step in range(n_steps):\n",
    "    print(\"Step {}\".format(step + 1))\n",
    "    obs, reward, done, info = env.step(ACTION_A)\n",
    "    print('obs=', obs, 'reward=', reward, 'done=', done)\n",
    "    env.render()\n",
    "    if done:\n",
    "        print(\"Goal reached!\", \"reward=\", reward)\n",
    "        break"
   ]
  },
  {
   "cell_type": "code",
   "execution_count": 259,
   "metadata": {
    "ExecuteTime": {
     "end_time": "2020-06-13T15:02:35.101042Z",
     "start_time": "2020-06-13T15:02:35.097125Z"
    }
   },
   "outputs": [
    {
     "data": {
      "text/plain": [
       "array([[0., 0., 0.],\n",
       "       [0., 0., 0.],\n",
       "       [0., 0., 0.],\n",
       "       [0., 0., 0.],\n",
       "       [0., 0., 0.],\n",
       "       [0., 0., 0.],\n",
       "       [0., 0., 0.],\n",
       "       [0., 0., 0.],\n",
       "       [0., 0., 0.],\n",
       "       [0., 0., 0.],\n",
       "       [0., 0., 0.],\n",
       "       [0., 0., 0.],\n",
       "       [0., 0., 0.]])"
      ]
     },
     "execution_count": 259,
     "metadata": {},
     "output_type": "execute_result"
    }
   ],
   "source": [
    "import numpy as np\n",
    "\n",
    "q_table = np.zeros([GOAL,len(ACTIONS)])\n",
    "q_table"
   ]
  },
  {
   "cell_type": "code",
   "execution_count": 260,
   "metadata": {
    "ExecuteTime": {
     "end_time": "2020-06-13T15:02:35.750979Z",
     "start_time": "2020-06-13T15:02:35.741589Z"
    }
   },
   "outputs": [
    {
     "data": {
      "text/html": [
       "<div>\n",
       "<style scoped>\n",
       "    .dataframe tbody tr th:only-of-type {\n",
       "        vertical-align: middle;\n",
       "    }\n",
       "\n",
       "    .dataframe tbody tr th {\n",
       "        vertical-align: top;\n",
       "    }\n",
       "\n",
       "    .dataframe thead th {\n",
       "        text-align: right;\n",
       "    }\n",
       "</style>\n",
       "<table border=\"1\" class=\"dataframe\">\n",
       "  <thead>\n",
       "    <tr style=\"text-align: right;\">\n",
       "      <th></th>\n",
       "      <th>ACTION_B</th>\n",
       "      <th>ACTION_A</th>\n",
       "      <th>ACTION_C</th>\n",
       "    </tr>\n",
       "  </thead>\n",
       "  <tbody>\n",
       "    <tr>\n",
       "      <th>0</th>\n",
       "      <td>0.0</td>\n",
       "      <td>0.0</td>\n",
       "      <td>0.0</td>\n",
       "    </tr>\n",
       "    <tr>\n",
       "      <th>1</th>\n",
       "      <td>0.0</td>\n",
       "      <td>0.0</td>\n",
       "      <td>0.0</td>\n",
       "    </tr>\n",
       "    <tr>\n",
       "      <th>2</th>\n",
       "      <td>0.0</td>\n",
       "      <td>0.0</td>\n",
       "      <td>0.0</td>\n",
       "    </tr>\n",
       "    <tr>\n",
       "      <th>3</th>\n",
       "      <td>0.0</td>\n",
       "      <td>0.0</td>\n",
       "      <td>0.0</td>\n",
       "    </tr>\n",
       "    <tr>\n",
       "      <th>4</th>\n",
       "      <td>0.0</td>\n",
       "      <td>0.0</td>\n",
       "      <td>0.0</td>\n",
       "    </tr>\n",
       "    <tr>\n",
       "      <th>5</th>\n",
       "      <td>0.0</td>\n",
       "      <td>0.0</td>\n",
       "      <td>0.0</td>\n",
       "    </tr>\n",
       "    <tr>\n",
       "      <th>6</th>\n",
       "      <td>0.0</td>\n",
       "      <td>0.0</td>\n",
       "      <td>0.0</td>\n",
       "    </tr>\n",
       "    <tr>\n",
       "      <th>7</th>\n",
       "      <td>0.0</td>\n",
       "      <td>0.0</td>\n",
       "      <td>0.0</td>\n",
       "    </tr>\n",
       "    <tr>\n",
       "      <th>8</th>\n",
       "      <td>0.0</td>\n",
       "      <td>0.0</td>\n",
       "      <td>0.0</td>\n",
       "    </tr>\n",
       "    <tr>\n",
       "      <th>9</th>\n",
       "      <td>0.0</td>\n",
       "      <td>0.0</td>\n",
       "      <td>0.0</td>\n",
       "    </tr>\n",
       "    <tr>\n",
       "      <th>10</th>\n",
       "      <td>0.0</td>\n",
       "      <td>0.0</td>\n",
       "      <td>0.0</td>\n",
       "    </tr>\n",
       "    <tr>\n",
       "      <th>11</th>\n",
       "      <td>0.0</td>\n",
       "      <td>0.0</td>\n",
       "      <td>0.0</td>\n",
       "    </tr>\n",
       "    <tr>\n",
       "      <th>12</th>\n",
       "      <td>0.0</td>\n",
       "      <td>0.0</td>\n",
       "      <td>0.0</td>\n",
       "    </tr>\n",
       "  </tbody>\n",
       "</table>\n",
       "</div>"
      ],
      "text/plain": [
       "    ACTION_B  ACTION_A  ACTION_C\n",
       "0        0.0       0.0       0.0\n",
       "1        0.0       0.0       0.0\n",
       "2        0.0       0.0       0.0\n",
       "3        0.0       0.0       0.0\n",
       "4        0.0       0.0       0.0\n",
       "5        0.0       0.0       0.0\n",
       "6        0.0       0.0       0.0\n",
       "7        0.0       0.0       0.0\n",
       "8        0.0       0.0       0.0\n",
       "9        0.0       0.0       0.0\n",
       "10       0.0       0.0       0.0\n",
       "11       0.0       0.0       0.0\n",
       "12       0.0       0.0       0.0"
      ]
     },
     "execution_count": 260,
     "metadata": {},
     "output_type": "execute_result"
    }
   ],
   "source": [
    "pd.DataFrame(q_table, columns={'ACTION_A','ACTION_B','ACTION_C'})"
   ]
  },
  {
   "cell_type": "code",
   "execution_count": 251,
   "metadata": {
    "ExecuteTime": {
     "end_time": "2020-06-13T14:15:57.791878Z",
     "start_time": "2020-06-13T14:15:55.478393Z"
    }
   },
   "outputs": [
    {
     "name": "stdout",
     "output_type": "stream",
     "text": [
      "Episode: 9900\n",
      "Training finished.\n",
      "\n"
     ]
    }
   ],
   "source": [
    "\n",
    "\"\"\"Training the agent\"\"\"\n",
    "\n",
    "import random\n",
    "from IPython.display import clear_output\n",
    "\n",
    "# Hyperparameters\n",
    "alpha = 0.1\n",
    "gamma = 0.6\n",
    "epsilon = 0.2\n",
    "\n",
    "# For plotting metrics\n",
    "all_epochs = []\n",
    "all_penalties = []\n",
    "\n",
    "for i in range(1, 10000):\n",
    "    state = env.reset()\n",
    "    state = int(state[0])\n",
    "\n",
    "    epochs, penalties, reward, = 0, 0, 0\n",
    "    done = False\n",
    "    \n",
    "    while not done:\n",
    "        if random.uniform(0, 1) < epsilon:\n",
    "            action_ix = random.randint(0,2)\n",
    "        else:\n",
    "            action_ix = np.argmax(q_table[state]) # Exploit learned values\n",
    "        #print(action_ix)\n",
    "\n",
    "        next_state, reward, done, info = env.step(ACTIONS[action_ix]) \n",
    "        next_state = int(next_state[0])\n",
    "        \n",
    "        if next_state>=GOAL:\n",
    "            break\n",
    "        \n",
    "        old_value = q_table[state, action]            \n",
    "        next_max = np.max(q_table[next_state])\n",
    "        \n",
    "        new_value = (1 - alpha) * old_value + alpha * (reward + gamma * next_max)\n",
    "        q_table[state, action_ix] = new_value\n",
    "\n",
    "        if reward == -10:\n",
    "            penalties += 1\n",
    "\n",
    "        state = next_state\n",
    "        epochs += 1\n",
    "        \n",
    "    if i % 100 == 0:\n",
    "        clear_output(wait=True)\n",
    "        print(f\"Episode: {i}\")\n",
    "\n",
    "print(\"Training finished.\\n\")"
   ]
  },
  {
   "cell_type": "code",
   "execution_count": 252,
   "metadata": {
    "ExecuteTime": {
     "end_time": "2020-06-13T14:15:57.812279Z",
     "start_time": "2020-06-13T14:15:57.809272Z"
    }
   },
   "outputs": [
    {
     "data": {
      "text/plain": [
       "0"
      ]
     },
     "execution_count": 252,
     "metadata": {},
     "output_type": "execute_result"
    }
   ],
   "source": [
    "action_ix"
   ]
  },
  {
   "cell_type": "code",
   "execution_count": 253,
   "metadata": {
    "ExecuteTime": {
     "end_time": "2020-06-13T14:15:57.836222Z",
     "start_time": "2020-06-13T14:15:57.831627Z"
    }
   },
   "outputs": [
    {
     "data": {
      "text/plain": [
       "2"
      ]
     },
     "execution_count": 253,
     "metadata": {},
     "output_type": "execute_result"
    }
   ],
   "source": [
    "random.randint(0,2)"
   ]
  },
  {
   "cell_type": "code",
   "execution_count": 254,
   "metadata": {
    "ExecuteTime": {
     "end_time": "2020-06-13T14:15:57.859997Z",
     "start_time": "2020-06-13T14:15:57.856277Z"
    }
   },
   "outputs": [
    {
     "data": {
      "text/plain": [
       "array([[1.92633112e-02, 1.96381156e-02, 1.75207001e-02],\n",
       "       [0.00000000e+00, 0.00000000e+00, 0.00000000e+00],\n",
       "       [5.68967570e-04, 5.52957094e-04, 2.90918928e-03],\n",
       "       [9.65452226e-03, 2.52929951e-02, 9.01236388e-03],\n",
       "       [2.26699073e-02, 2.29528469e-02, 3.53767835e-02],\n",
       "       [5.83906443e-05, 5.62885811e-05, 1.28299493e-04],\n",
       "       [2.44834908e-01, 2.26739405e-01, 2.20856991e-01],\n",
       "       [7.16386266e-04, 6.87802466e-04, 7.02975902e-03],\n",
       "       [1.50069449e-03, 1.35062504e-03, 1.85619940e-03],\n",
       "       [7.18496837e-03, 1.06466472e-01, 6.46647154e-03],\n",
       "       [1.99187831e-02, 1.51588225e-02, 1.17926905e-01],\n",
       "       [0.00000000e+00, 0.00000000e+00, 0.00000000e+00],\n",
       "       [0.00000000e+00, 0.00000000e+00, 0.00000000e+00]])"
      ]
     },
     "execution_count": 254,
     "metadata": {},
     "output_type": "execute_result"
    }
   ],
   "source": [
    "q_table"
   ]
  },
  {
   "cell_type": "code",
   "execution_count": 258,
   "metadata": {
    "ExecuteTime": {
     "end_time": "2020-06-13T14:57:43.583857Z",
     "start_time": "2020-06-13T14:57:43.571709Z"
    }
   },
   "outputs": [
    {
     "data": {
      "text/html": [
       "<div>\n",
       "<style scoped>\n",
       "    .dataframe tbody tr th:only-of-type {\n",
       "        vertical-align: middle;\n",
       "    }\n",
       "\n",
       "    .dataframe tbody tr th {\n",
       "        vertical-align: top;\n",
       "    }\n",
       "\n",
       "    .dataframe thead th {\n",
       "        text-align: right;\n",
       "    }\n",
       "</style>\n",
       "<table border=\"1\" class=\"dataframe\">\n",
       "  <thead>\n",
       "    <tr style=\"text-align: right;\">\n",
       "      <th></th>\n",
       "      <th>ACTION_B</th>\n",
       "      <th>ACTION_A</th>\n",
       "      <th>ACTION_C</th>\n",
       "    </tr>\n",
       "  </thead>\n",
       "  <tbody>\n",
       "    <tr>\n",
       "      <th>0</th>\n",
       "      <td>0.019263</td>\n",
       "      <td>0.019638</td>\n",
       "      <td>0.017521</td>\n",
       "    </tr>\n",
       "    <tr>\n",
       "      <th>1</th>\n",
       "      <td>0.000000</td>\n",
       "      <td>0.000000</td>\n",
       "      <td>0.000000</td>\n",
       "    </tr>\n",
       "    <tr>\n",
       "      <th>2</th>\n",
       "      <td>0.000569</td>\n",
       "      <td>0.000553</td>\n",
       "      <td>0.002909</td>\n",
       "    </tr>\n",
       "    <tr>\n",
       "      <th>3</th>\n",
       "      <td>0.009655</td>\n",
       "      <td>0.025293</td>\n",
       "      <td>0.009012</td>\n",
       "    </tr>\n",
       "    <tr>\n",
       "      <th>4</th>\n",
       "      <td>0.022670</td>\n",
       "      <td>0.022953</td>\n",
       "      <td>0.035377</td>\n",
       "    </tr>\n",
       "    <tr>\n",
       "      <th>5</th>\n",
       "      <td>0.000058</td>\n",
       "      <td>0.000056</td>\n",
       "      <td>0.000128</td>\n",
       "    </tr>\n",
       "    <tr>\n",
       "      <th>6</th>\n",
       "      <td>0.244835</td>\n",
       "      <td>0.226739</td>\n",
       "      <td>0.220857</td>\n",
       "    </tr>\n",
       "    <tr>\n",
       "      <th>7</th>\n",
       "      <td>0.000716</td>\n",
       "      <td>0.000688</td>\n",
       "      <td>0.007030</td>\n",
       "    </tr>\n",
       "    <tr>\n",
       "      <th>8</th>\n",
       "      <td>0.001501</td>\n",
       "      <td>0.001351</td>\n",
       "      <td>0.001856</td>\n",
       "    </tr>\n",
       "    <tr>\n",
       "      <th>9</th>\n",
       "      <td>0.007185</td>\n",
       "      <td>0.106466</td>\n",
       "      <td>0.006466</td>\n",
       "    </tr>\n",
       "    <tr>\n",
       "      <th>10</th>\n",
       "      <td>0.019919</td>\n",
       "      <td>0.015159</td>\n",
       "      <td>0.117927</td>\n",
       "    </tr>\n",
       "    <tr>\n",
       "      <th>11</th>\n",
       "      <td>0.000000</td>\n",
       "      <td>0.000000</td>\n",
       "      <td>0.000000</td>\n",
       "    </tr>\n",
       "    <tr>\n",
       "      <th>12</th>\n",
       "      <td>0.000000</td>\n",
       "      <td>0.000000</td>\n",
       "      <td>0.000000</td>\n",
       "    </tr>\n",
       "  </tbody>\n",
       "</table>\n",
       "</div>"
      ],
      "text/plain": [
       "    ACTION_B  ACTION_A  ACTION_C\n",
       "0   0.019263  0.019638  0.017521\n",
       "1   0.000000  0.000000  0.000000\n",
       "2   0.000569  0.000553  0.002909\n",
       "3   0.009655  0.025293  0.009012\n",
       "4   0.022670  0.022953  0.035377\n",
       "5   0.000058  0.000056  0.000128\n",
       "6   0.244835  0.226739  0.220857\n",
       "7   0.000716  0.000688  0.007030\n",
       "8   0.001501  0.001351  0.001856\n",
       "9   0.007185  0.106466  0.006466\n",
       "10  0.019919  0.015159  0.117927\n",
       "11  0.000000  0.000000  0.000000\n",
       "12  0.000000  0.000000  0.000000"
      ]
     },
     "execution_count": 258,
     "metadata": {},
     "output_type": "execute_result"
    }
   ],
   "source": [
    "pd.DataFrame(q_table, columns={'ACTION_A','ACTION_B','ACTION_C'})"
   ]
  },
  {
   "cell_type": "code",
   "execution_count": 256,
   "metadata": {
    "ExecuteTime": {
     "end_time": "2020-06-13T14:17:11.921811Z",
     "start_time": "2020-06-13T14:17:11.917157Z"
    }
   },
   "outputs": [
    {
     "name": "stdout",
     "output_type": "stream",
     "text": [
      "[0.01926331 0.01963812 0.0175207 ]|1\n",
      "[0. 0. 0.]|0\n",
      "[0.00056897 0.00055296 0.00290919]|2\n",
      "[0.00965452 0.025293   0.00901236]|1\n",
      "[0.02266991 0.02295285 0.03537678]|2\n",
      "[5.83906443e-05 5.62885811e-05 1.28299493e-04]|2\n",
      "[0.24483491 0.22673941 0.22085699]|0\n",
      "[0.00071639 0.0006878  0.00702976]|2\n",
      "[0.00150069 0.00135063 0.0018562 ]|2\n",
      "[0.00718497 0.10646647 0.00646647]|1\n",
      "[0.01991878 0.01515882 0.1179269 ]|2\n",
      "[0. 0. 0.]|0\n",
      "[0. 0. 0.]|0\n"
     ]
    }
   ],
   "source": [
    "for i in q_table:\n",
    "    print(i,end='|')\n",
    "    print(np.argmax(i))"
   ]
  },
  {
   "cell_type": "code",
   "execution_count": null,
   "metadata": {},
   "outputs": [],
   "source": [
    "ss1p()"
   ]
  },
  {
   "cell_type": "code",
   "execution_count": null,
   "metadata": {},
   "outputs": [],
   "source": []
  }
 ],
 "metadata": {
  "kernelspec": {
   "display_name": "Python 3",
   "language": "python",
   "name": "python3"
  },
  "language_info": {
   "codemirror_mode": {
    "name": "ipython",
    "version": 3
   },
   "file_extension": ".py",
   "mimetype": "text/x-python",
   "name": "python",
   "nbconvert_exporter": "python",
   "pygments_lexer": "ipython3",
   "version": "3.8.2"
  },
  "toc": {
   "base_numbering": 1,
   "nav_menu": {},
   "number_sections": true,
   "sideBar": true,
   "skip_h1_title": false,
   "title_cell": "Table of Contents",
   "title_sidebar": "Contents",
   "toc_cell": false,
   "toc_position": {
    "height": "calc(100% - 180px)",
    "left": "10px",
    "top": "150px",
    "width": "165px"
   },
   "toc_section_display": true,
   "toc_window_display": true
  },
  "varInspector": {
   "cols": {
    "lenName": 16,
    "lenType": 16,
    "lenVar": 40
   },
   "kernels_config": {
    "python": {
     "delete_cmd_postfix": "",
     "delete_cmd_prefix": "del ",
     "library": "var_list.py",
     "varRefreshCmd": "print(var_dic_list())"
    },
    "r": {
     "delete_cmd_postfix": ") ",
     "delete_cmd_prefix": "rm(",
     "library": "var_list.r",
     "varRefreshCmd": "cat(var_dic_list()) "
    }
   },
   "types_to_exclude": [
    "module",
    "function",
    "builtin_function_or_method",
    "instance",
    "_Feature"
   ],
   "window_display": false
  }
 },
 "nbformat": 4,
 "nbformat_minor": 4
}
