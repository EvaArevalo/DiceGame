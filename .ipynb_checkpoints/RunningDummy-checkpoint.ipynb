{
 "cells": [
  {
   "cell_type": "code",
   "execution_count": 1,
   "metadata": {
    "ExecuteTime": {
     "end_time": "2020-06-11T17:13:22.563155Z",
     "start_time": "2020-06-11T17:13:22.321579Z"
    }
   },
   "outputs": [],
   "source": [
    "import os, sys\n",
    "from selectionStrategies1p import *\n",
    "from selectionStrategies2p import *\n",
    "from playSingle import *\n",
    "from play2players import *\n",
    "from diceGameFunctions import *"
   ]
  },
  {
   "cell_type": "code",
   "execution_count": 2,
   "metadata": {
    "ExecuteTime": {
     "end_time": "2020-06-11T17:13:22.576722Z",
     "start_time": "2020-06-11T17:13:22.566348Z"
    },
    "scrolled": false
   },
   "outputs": [
    {
     "name": "stdout",
     "output_type": "stream",
     "text": [
      "Player averaged 12.69 throws for 100 rounds\n"
     ]
    }
   ],
   "source": [
    "play_dice_game_1p(ss1p_12,rounds = 100)"
   ]
  },
  {
   "cell_type": "code",
   "execution_count": 3,
   "metadata": {
    "ExecuteTime": {
     "end_time": "2020-06-11T17:13:22.617375Z",
     "start_time": "2020-06-11T17:13:22.579064Z"
    }
   },
   "outputs": [
    {
     "name": "stdout",
     "output_type": "stream",
     "text": [
      "Player 1 wins 437 vs. 376 and 187 draws.\n"
     ]
    }
   ],
   "source": [
    "play_dice_game_2p(ss2p_a,ss2p_5,rounds = 1000)"
   ]
  },
  {
   "cell_type": "code",
   "execution_count": 8,
   "metadata": {
    "ExecuteTime": {
     "end_time": "2020-06-11T17:13:28.543866Z",
     "start_time": "2020-06-11T17:13:28.529144Z"
    }
   },
   "outputs": [
    {
     "data": {
      "text/html": [
       "<div>\n",
       "<style scoped>\n",
       "    .dataframe tbody tr th:only-of-type {\n",
       "        vertical-align: middle;\n",
       "    }\n",
       "\n",
       "    .dataframe tbody tr th {\n",
       "        vertical-align: top;\n",
       "    }\n",
       "\n",
       "    .dataframe thead th {\n",
       "        text-align: right;\n",
       "    }\n",
       "</style>\n",
       "<table border=\"1\" class=\"dataframe\">\n",
       "  <thead>\n",
       "    <tr style=\"text-align: right;\">\n",
       "      <th></th>\n",
       "      <th>sid</th>\n",
       "      <th>name</th>\n",
       "      <th>ss1p</th>\n",
       "      <th>ss2p</th>\n",
       "      <th>is1p</th>\n",
       "      <th>is2p</th>\n",
       "      <th>always_p2</th>\n",
       "      <th>correct_sol</th>\n",
       "      <th>nice_sol</th>\n",
       "    </tr>\n",
       "  </thead>\n",
       "  <tbody>\n",
       "    <tr>\n",
       "      <th>0</th>\n",
       "      <td>107062421</td>\n",
       "      <td>ta</td>\n",
       "      <td>ss1p_a</td>\n",
       "      <td>ss2p_a</td>\n",
       "      <td>nan</td>\n",
       "      <td>nan</td>\n",
       "      <td>nan</td>\n",
       "      <td>nan</td>\n",
       "      <td>nan</td>\n",
       "    </tr>\n",
       "    <tr>\n",
       "      <th>1</th>\n",
       "      <td>108031227</td>\n",
       "      <td>林子瑜</td>\n",
       "      <td>ss1p_11</td>\n",
       "      <td>ss2p_4</td>\n",
       "      <td>nan</td>\n",
       "      <td>nan</td>\n",
       "      <td>nan</td>\n",
       "      <td>nan</td>\n",
       "      <td>nan</td>\n",
       "    </tr>\n",
       "    <tr>\n",
       "      <th>2</th>\n",
       "      <td>108020011</td>\n",
       "      <td>鍾允睿</td>\n",
       "      <td>ss1p_a</td>\n",
       "      <td>ss2p_a</td>\n",
       "      <td>nan</td>\n",
       "      <td>nan</td>\n",
       "      <td>nan</td>\n",
       "      <td>True</td>\n",
       "      <td>nan</td>\n",
       "    </tr>\n",
       "    <tr>\n",
       "      <th>3</th>\n",
       "      <td>108072108</td>\n",
       "      <td>林淇臻</td>\n",
       "      <td>ss1p_a</td>\n",
       "      <td>ss2p_a</td>\n",
       "      <td>nan</td>\n",
       "      <td>nan</td>\n",
       "      <td>nan</td>\n",
       "      <td>nan</td>\n",
       "      <td>nan</td>\n",
       "    </tr>\n",
       "    <tr>\n",
       "      <th>4</th>\n",
       "      <td>108031221</td>\n",
       "      <td>潘昱銘</td>\n",
       "      <td>ss1p_a</td>\n",
       "      <td>ss2p_6</td>\n",
       "      <td>nan</td>\n",
       "      <td>nan</td>\n",
       "      <td>nan</td>\n",
       "      <td>nan</td>\n",
       "      <td>nan</td>\n",
       "    </tr>\n",
       "  </tbody>\n",
       "</table>\n",
       "</div>"
      ],
      "text/plain": [
       "         sid name     ss1p    ss2p is1p is2p always_p2 correct_sol nice_sol\n",
       "0  107062421   ta   ss1p_a  ss2p_a  nan  nan       nan         nan      nan\n",
       "1  108031227  林子瑜  ss1p_11  ss2p_4  nan  nan       nan         nan      nan\n",
       "2  108020011  鍾允睿   ss1p_a  ss2p_a  nan  nan       nan        True      nan\n",
       "3  108072108  林淇臻   ss1p_a  ss2p_a  nan  nan       nan         nan      nan\n",
       "4  108031221  潘昱銘   ss1p_a  ss2p_6  nan  nan       nan         nan      nan"
      ]
     },
     "execution_count": 8,
     "metadata": {},
     "output_type": "execute_result"
    }
   ],
   "source": [
    "import pandas as pd\n",
    "\n",
    "sid_df = pd.read_csv('StrategyPerSID.csv')\n",
    "sid_df = sid_df.fillna('nan')\n",
    "sid_df.head()"
   ]
  },
  {
   "cell_type": "code",
   "execution_count": 9,
   "metadata": {
    "ExecuteTime": {
     "end_time": "2020-06-11T17:13:30.028726Z",
     "start_time": "2020-06-11T17:13:29.990393Z"
    }
   },
   "outputs": [
    {
     "data": {
      "text/plain": [
       "{'__name__': '__main__',\n",
       " '__doc__': 'Automatically created module for IPython interactive environment',\n",
       " '__package__': None,\n",
       " '__loader__': None,\n",
       " '__spec__': None,\n",
       " '__builtin__': <module 'builtins' (built-in)>,\n",
       " '__builtins__': <module 'builtins' (built-in)>,\n",
       " '_ih': ['',\n",
       "  'import os, sys\\nfrom selectionStrategies1p import *\\nfrom selectionStrategies2p import *\\nfrom playSingle import *\\nfrom play2players import *\\nfrom diceGameFunctions import *',\n",
       "  'play_dice_game_1p(ss1p_12,rounds = 100)',\n",
       "  'play_dice_game_2p(ss2p_a,ss2p_5,rounds = 1000)',\n",
       "  \"import pandas as pd\\n\\nsid_df = pd.read_csv('StrategyPerSID.csv')\\nsid_df = sid_df.fillna('nan')\\nsid_df.head()\",\n",
       "  'globals()',\n",
       "  \"def play_dice_game_1p(selection_strategy, rounds=100):\\n\\t'''play dice game, 1 player. \\n\\tINPUT: selection_strategy,initialization_strategy, rounds\\n\\tOUTPUT: average No. of throws over rounds rounds\\n\\t'''\\n\\tdice_throws_arr = []\\n\\n\\tfor i in range(0,rounds):\\n\\t\\t\\n\\t\\t#vars\\n\\t\\tprofit = 0\\n\\t\\tthrows = 0\\n\\t\\twin = 0\\n\\t\\tfail = 0\\n\\t\\tcount_A = 0\\n\\t\\tcount_B = 0\\n\\t\\tcount_C = 0\\n\\t\\tprev_action = is_r() #choose a random action to begin\\n\\t\\tprev_dice_res = random.randint(1,6)\\n\\n\\t\\twhile profit < GOAL:\\n\\t\\t\\t\\n\\t\\t\\t#sel action, roll dice, count reward\\n\\t\\t\\tkwargs = {'profit':profit,'throws':throws, 'prev_action':prev_action,\\\\\\n\\t\\t\\t\\t\\t 'prev_dice_res':prev_dice_res, 'win':win, 'count_A':count_A,\\n\\t\\t\\t\\t\\t 'count_B':count_B,'count_C':count_C}\\n\\t\\t\\tsel_action = selection_strategy(**kwargs)\\n\\n\\t\\t\\t#counters\\n\\t\\t\\tif sel_action == action_A:\\n\\t\\t\\t\\tcount_A += 1\\n\\t\\t\\telif sel_action == action_B:\\n\\t\\t\\t\\tcount_B+=1\\n\\t\\t\\telif sel_action == action_C:\\n\\t\\t\\t\\tcount_C+=1\\n\\t\\t\\telse:\\n\\t\\t\\t\\traise \\n\\n\\t\\t\\tdice_res = random.randint(1,6)\\n\\t\\t\\tif dice_res in sel_action['match']:\\n\\t\\t\\t\\twin += 1\\n\\t\\t\\t\\tprofit += sel_action['reward']\\n\\t\\t\\t\\n\\t\\t\\t#update state\\n\\t\\t\\tthrows += 1\\n\\t\\t\\tprev_action = sel_action\\n\\t\\t\\tprev_dice_res = dice_res\\n\\n\\t\\tdice_throws_arr.append(throws)\\n\\t\\n\\tavg = np.mean(dice_throws_arr)\\n\\tprint('Player averaged '+ str(avg) + ' throws for '+ str(rounds) +' rounds')\\n\\ndef play_dice_game_2p(selection_strategy_p1,selection_strategy_p2,\\n\\trounds=100):\\n\\t'''play dice game, 2 players. \\n\\tINPUT: selection_strategy,initialization_strategy, rounds\\n\\tOUTPUT: winner array containing 1 for p1 win, 2 for p2 win and 0 for draw\\n\\t'''\\n\\twinner_array = []\\n\\n\\tfor i in range(0,rounds):\\n\\t\\tprofit_p1 = 0\\n\\t\\tprofit_p2 = 0\\n\\t\\twin_p1 = 0\\n\\t\\twin_p2 = 0\\n\\t\\tthrows = 0\\n\\n\\t\\tprev_action_p1 = is_r()  #choose a random action to begin\\n\\t\\tprev_action_p2 = is_r() #choose a random action to begin\\n\\t\\tprev_dice_res = -1\\n\\n\\t\\twhile profit_p1 < GOAL and profit_p2 < GOAL:\\n\\t\\t\\t#select strategy\\n\\t\\t\\targs_p1 = {'profit_p1':profit_p1,'profit_p2':profit_p2,\\\\\\n\\t\\t\\t\\t\\t  'throws':throws, 'prev_action_p1':prev_action_p1,\\\\\\n\\t\\t\\t\\t\\t  'prev_action_p2':prev_action_p2,\\\\\\n\\t\\t\\t\\t\\t  'prev_dice_res':prev_dice_res, \\\\\\n\\t\\t\\t\\t\\t  'win_p1':win_p1,'win_p2':win_p2,'whoAmI':'p1',\\\\\\n\\t\\t\\t\\t\\t  }\\n\\t\\t\\tsel_action_p1 = selection_strategy_p1(**args_p1)\\n\\t\\t\\targs_p2 = {'profit_p1':profit_p1,'profit_p2':profit_p2,\\\\\\n\\t\\t\\t\\t\\t  'throws':throws, 'prev_action_p1':prev_action_p1,\\\\\\n\\t\\t\\t\\t\\t  'prev_action_p2':prev_action_p2,\\\\\\n\\t\\t\\t\\t\\t  'prev_dice_res':prev_dice_res, \\\\\\n\\t\\t\\t\\t\\t  'win_p1':win_p1,'win_p2':win_p2,'whoAmI':'p2',\\\\\\n\\t\\t\\t\\t\\t  'sel_action_p1':sel_action_p1}\\n\\t\\t\\tsel_action_p2 = selection_strategy_p2(**args_p2)\\n\\n\\t\\t\\t#check reward\\n\\t\\t\\tdice_res = random.randint(1,6)\\n\\t\\t\\tif dice_res in sel_action_p1['match']:\\n\\t\\t\\t\\tprofit_p1 += sel_action_p1['reward']\\n\\t\\t\\tif dice_res in sel_action_p2['match']:\\n\\t\\t\\t\\tprofit_p2 += sel_action_p2['reward']\\n\\n\\t\\t\\t#update\\n\\t\\t\\tthrows += 1\\n\\t\\t\\tprev_action_1 = sel_action_p1\\n\\t\\t\\tprev_action_2 = sel_action_p2\\n\\t\\t\\tprev_dice_res = dice_res\\n\\t\\t\\n\\t\\tif profit_p1==profit_p2:\\n\\t\\t\\twin_p1 += 1\\n\\t\\t\\twin_p2 += 1\\n\\t\\t\\twinner_array.append(0)\\n\\t\\telif profit_p1>profit_p2:\\n\\t\\t\\twin_p1 += 1\\n\\t\\t\\twinner_array.append(1)\\n\\t\\telif profit_p1<profit_p2:\\n\\t\\t\\twin_p2 += 1\\n\\t\\t\\twinner_array.append(2)\\n\\t\\t\\t\\n\\t#decide winner\\n\\twinner_array = np.array(winner_array)\\n\\tchooseWinner(winner_array,rounds)\\n\\ndef chooseWinner(winner_arr,rounds):\\n\\t\\n\\tp2 = len(np.where(winner_arr==2)[0])\\n\\tp1 = len(np.where(winner_arr==1)[0])\\n\\tdraws = rounds - p1 - p2\\n\\t\\n\\tif p1==p2:\\n\\t\\tprint('Draw between player 1 and 2')\\n\\n\\telif p1>p2:\\n\\t\\tprint('Player 1 wins ' + str(p1) + ' vs. ' + str(p2) +' and ' + str(draws) + ' draws.')\\n\\n\\telif p2>p1:\\n\\t\\tprint('Player 2 wins ' + str(p2) + ' vs. ' + str(p1) +' and ' + str(draws) + ' draws.')\",\n",
       "  \"#test 1 p strategies\\nfor sid in sid_df['sid'].values:\\n    print(sid)\\n    play_dice_game_1p_sid(sid,rounds=10000)\\n    print('*****')\",\n",
       "  \"import pandas as pd\\n\\nsid_df = pd.read_csv('StrategyPerSID.csv')\\nsid_df = sid_df.fillna('nan')\\nsid_df.head()\",\n",
       "  'globals()'],\n",
       " '_oh': {4:          sid name     ss1p    ss2p is1p is2p always_p2 correct_sol nice_sol\n",
       "  0  107062421   ta   ss1p_a  ss2p_a  nan  nan       nan         nan      nan\n",
       "  1  108031227  林子瑜  ss1p_11  ss2p_4  nan  nan       nan         nan      nan\n",
       "  2  108020011  鍾允睿   ss1p_a  ss2p_a  nan  nan       nan        True      nan\n",
       "  3  108072108  林淇臻   ss1p_a  ss2p_a  nan  nan       nan         nan      nan\n",
       "  4  108031221  潘昱銘   ss1p_a  ss2p_6  nan  nan       nan         nan      nan,\n",
       "  5: {...},\n",
       "  8:          sid name     ss1p    ss2p is1p is2p always_p2 correct_sol nice_sol\n",
       "  0  107062421   ta   ss1p_a  ss2p_a  nan  nan       nan         nan      nan\n",
       "  1  108031227  林子瑜  ss1p_11  ss2p_4  nan  nan       nan         nan      nan\n",
       "  2  108020011  鍾允睿   ss1p_a  ss2p_a  nan  nan       nan        True      nan\n",
       "  3  108072108  林淇臻   ss1p_a  ss2p_a  nan  nan       nan         nan      nan\n",
       "  4  108031221  潘昱銘   ss1p_a  ss2p_6  nan  nan       nan         nan      nan},\n",
       " '_dh': ['/home/eva/Documents/Masters/TA/DiceGame'],\n",
       " 'In': ['',\n",
       "  'import os, sys\\nfrom selectionStrategies1p import *\\nfrom selectionStrategies2p import *\\nfrom playSingle import *\\nfrom play2players import *\\nfrom diceGameFunctions import *',\n",
       "  'play_dice_game_1p(ss1p_12,rounds = 100)',\n",
       "  'play_dice_game_2p(ss2p_a,ss2p_5,rounds = 1000)',\n",
       "  \"import pandas as pd\\n\\nsid_df = pd.read_csv('StrategyPerSID.csv')\\nsid_df = sid_df.fillna('nan')\\nsid_df.head()\",\n",
       "  'globals()',\n",
       "  \"def play_dice_game_1p(selection_strategy, rounds=100):\\n\\t'''play dice game, 1 player. \\n\\tINPUT: selection_strategy,initialization_strategy, rounds\\n\\tOUTPUT: average No. of throws over rounds rounds\\n\\t'''\\n\\tdice_throws_arr = []\\n\\n\\tfor i in range(0,rounds):\\n\\t\\t\\n\\t\\t#vars\\n\\t\\tprofit = 0\\n\\t\\tthrows = 0\\n\\t\\twin = 0\\n\\t\\tfail = 0\\n\\t\\tcount_A = 0\\n\\t\\tcount_B = 0\\n\\t\\tcount_C = 0\\n\\t\\tprev_action = is_r() #choose a random action to begin\\n\\t\\tprev_dice_res = random.randint(1,6)\\n\\n\\t\\twhile profit < GOAL:\\n\\t\\t\\t\\n\\t\\t\\t#sel action, roll dice, count reward\\n\\t\\t\\tkwargs = {'profit':profit,'throws':throws, 'prev_action':prev_action,\\\\\\n\\t\\t\\t\\t\\t 'prev_dice_res':prev_dice_res, 'win':win, 'count_A':count_A,\\n\\t\\t\\t\\t\\t 'count_B':count_B,'count_C':count_C}\\n\\t\\t\\tsel_action = selection_strategy(**kwargs)\\n\\n\\t\\t\\t#counters\\n\\t\\t\\tif sel_action == action_A:\\n\\t\\t\\t\\tcount_A += 1\\n\\t\\t\\telif sel_action == action_B:\\n\\t\\t\\t\\tcount_B+=1\\n\\t\\t\\telif sel_action == action_C:\\n\\t\\t\\t\\tcount_C+=1\\n\\t\\t\\telse:\\n\\t\\t\\t\\traise \\n\\n\\t\\t\\tdice_res = random.randint(1,6)\\n\\t\\t\\tif dice_res in sel_action['match']:\\n\\t\\t\\t\\twin += 1\\n\\t\\t\\t\\tprofit += sel_action['reward']\\n\\t\\t\\t\\n\\t\\t\\t#update state\\n\\t\\t\\tthrows += 1\\n\\t\\t\\tprev_action = sel_action\\n\\t\\t\\tprev_dice_res = dice_res\\n\\n\\t\\tdice_throws_arr.append(throws)\\n\\t\\n\\tavg = np.mean(dice_throws_arr)\\n\\tprint('Player averaged '+ str(avg) + ' throws for '+ str(rounds) +' rounds')\\n\\ndef play_dice_game_2p(selection_strategy_p1,selection_strategy_p2,\\n\\trounds=100):\\n\\t'''play dice game, 2 players. \\n\\tINPUT: selection_strategy,initialization_strategy, rounds\\n\\tOUTPUT: winner array containing 1 for p1 win, 2 for p2 win and 0 for draw\\n\\t'''\\n\\twinner_array = []\\n\\n\\tfor i in range(0,rounds):\\n\\t\\tprofit_p1 = 0\\n\\t\\tprofit_p2 = 0\\n\\t\\twin_p1 = 0\\n\\t\\twin_p2 = 0\\n\\t\\tthrows = 0\\n\\n\\t\\tprev_action_p1 = is_r()  #choose a random action to begin\\n\\t\\tprev_action_p2 = is_r() #choose a random action to begin\\n\\t\\tprev_dice_res = -1\\n\\n\\t\\twhile profit_p1 < GOAL and profit_p2 < GOAL:\\n\\t\\t\\t#select strategy\\n\\t\\t\\targs_p1 = {'profit_p1':profit_p1,'profit_p2':profit_p2,\\\\\\n\\t\\t\\t\\t\\t  'throws':throws, 'prev_action_p1':prev_action_p1,\\\\\\n\\t\\t\\t\\t\\t  'prev_action_p2':prev_action_p2,\\\\\\n\\t\\t\\t\\t\\t  'prev_dice_res':prev_dice_res, \\\\\\n\\t\\t\\t\\t\\t  'win_p1':win_p1,'win_p2':win_p2,'whoAmI':'p1',\\\\\\n\\t\\t\\t\\t\\t  }\\n\\t\\t\\tsel_action_p1 = selection_strategy_p1(**args_p1)\\n\\t\\t\\targs_p2 = {'profit_p1':profit_p1,'profit_p2':profit_p2,\\\\\\n\\t\\t\\t\\t\\t  'throws':throws, 'prev_action_p1':prev_action_p1,\\\\\\n\\t\\t\\t\\t\\t  'prev_action_p2':prev_action_p2,\\\\\\n\\t\\t\\t\\t\\t  'prev_dice_res':prev_dice_res, \\\\\\n\\t\\t\\t\\t\\t  'win_p1':win_p1,'win_p2':win_p2,'whoAmI':'p2',\\\\\\n\\t\\t\\t\\t\\t  'sel_action_p1':sel_action_p1}\\n\\t\\t\\tsel_action_p2 = selection_strategy_p2(**args_p2)\\n\\n\\t\\t\\t#check reward\\n\\t\\t\\tdice_res = random.randint(1,6)\\n\\t\\t\\tif dice_res in sel_action_p1['match']:\\n\\t\\t\\t\\tprofit_p1 += sel_action_p1['reward']\\n\\t\\t\\tif dice_res in sel_action_p2['match']:\\n\\t\\t\\t\\tprofit_p2 += sel_action_p2['reward']\\n\\n\\t\\t\\t#update\\n\\t\\t\\tthrows += 1\\n\\t\\t\\tprev_action_1 = sel_action_p1\\n\\t\\t\\tprev_action_2 = sel_action_p2\\n\\t\\t\\tprev_dice_res = dice_res\\n\\t\\t\\n\\t\\tif profit_p1==profit_p2:\\n\\t\\t\\twin_p1 += 1\\n\\t\\t\\twin_p2 += 1\\n\\t\\t\\twinner_array.append(0)\\n\\t\\telif profit_p1>profit_p2:\\n\\t\\t\\twin_p1 += 1\\n\\t\\t\\twinner_array.append(1)\\n\\t\\telif profit_p1<profit_p2:\\n\\t\\t\\twin_p2 += 1\\n\\t\\t\\twinner_array.append(2)\\n\\t\\t\\t\\n\\t#decide winner\\n\\twinner_array = np.array(winner_array)\\n\\tchooseWinner(winner_array,rounds)\\n\\ndef chooseWinner(winner_arr,rounds):\\n\\t\\n\\tp2 = len(np.where(winner_arr==2)[0])\\n\\tp1 = len(np.where(winner_arr==1)[0])\\n\\tdraws = rounds - p1 - p2\\n\\t\\n\\tif p1==p2:\\n\\t\\tprint('Draw between player 1 and 2')\\n\\n\\telif p1>p2:\\n\\t\\tprint('Player 1 wins ' + str(p1) + ' vs. ' + str(p2) +' and ' + str(draws) + ' draws.')\\n\\n\\telif p2>p1:\\n\\t\\tprint('Player 2 wins ' + str(p2) + ' vs. ' + str(p1) +' and ' + str(draws) + ' draws.')\",\n",
       "  \"#test 1 p strategies\\nfor sid in sid_df['sid'].values:\\n    print(sid)\\n    play_dice_game_1p_sid(sid,rounds=10000)\\n    print('*****')\",\n",
       "  \"import pandas as pd\\n\\nsid_df = pd.read_csv('StrategyPerSID.csv')\\nsid_df = sid_df.fillna('nan')\\nsid_df.head()\",\n",
       "  'globals()'],\n",
       " 'Out': {4:          sid name     ss1p    ss2p is1p is2p always_p2 correct_sol nice_sol\n",
       "  0  107062421   ta   ss1p_a  ss2p_a  nan  nan       nan         nan      nan\n",
       "  1  108031227  林子瑜  ss1p_11  ss2p_4  nan  nan       nan         nan      nan\n",
       "  2  108020011  鍾允睿   ss1p_a  ss2p_a  nan  nan       nan        True      nan\n",
       "  3  108072108  林淇臻   ss1p_a  ss2p_a  nan  nan       nan         nan      nan\n",
       "  4  108031221  潘昱銘   ss1p_a  ss2p_6  nan  nan       nan         nan      nan,\n",
       "  5: {...},\n",
       "  8:          sid name     ss1p    ss2p is1p is2p always_p2 correct_sol nice_sol\n",
       "  0  107062421   ta   ss1p_a  ss2p_a  nan  nan       nan         nan      nan\n",
       "  1  108031227  林子瑜  ss1p_11  ss2p_4  nan  nan       nan         nan      nan\n",
       "  2  108020011  鍾允睿   ss1p_a  ss2p_a  nan  nan       nan        True      nan\n",
       "  3  108072108  林淇臻   ss1p_a  ss2p_a  nan  nan       nan         nan      nan\n",
       "  4  108031221  潘昱銘   ss1p_a  ss2p_6  nan  nan       nan         nan      nan},\n",
       " 'get_ipython': <function IPython.core.getipython.get_ipython()>,\n",
       " 'exit': <IPython.core.autocall.ZMQExitAutocall at 0x7ff2cc24afd0>,\n",
       " 'quit': <IPython.core.autocall.ZMQExitAutocall at 0x7ff2cc24afd0>,\n",
       " '_':          sid name     ss1p    ss2p is1p is2p always_p2 correct_sol nice_sol\n",
       " 0  107062421   ta   ss1p_a  ss2p_a  nan  nan       nan         nan      nan\n",
       " 1  108031227  林子瑜  ss1p_11  ss2p_4  nan  nan       nan         nan      nan\n",
       " 2  108020011  鍾允睿   ss1p_a  ss2p_a  nan  nan       nan        True      nan\n",
       " 3  108072108  林淇臻   ss1p_a  ss2p_a  nan  nan       nan         nan      nan\n",
       " 4  108031221  潘昱銘   ss1p_a  ss2p_6  nan  nan       nan         nan      nan,\n",
       " '__': {...},\n",
       " '___':          sid name     ss1p    ss2p is1p is2p always_p2 correct_sol nice_sol\n",
       " 0  107062421   ta   ss1p_a  ss2p_a  nan  nan       nan         nan      nan\n",
       " 1  108031227  林子瑜  ss1p_11  ss2p_4  nan  nan       nan         nan      nan\n",
       " 2  108020011  鍾允睿   ss1p_a  ss2p_a  nan  nan       nan        True      nan\n",
       " 3  108072108  林淇臻   ss1p_a  ss2p_a  nan  nan       nan         nan      nan\n",
       " 4  108031221  潘昱銘   ss1p_a  ss2p_6  nan  nan       nan         nan      nan,\n",
       " '_i': \"import pandas as pd\\n\\nsid_df = pd.read_csv('StrategyPerSID.csv')\\nsid_df = sid_df.fillna('nan')\\nsid_df.head()\",\n",
       " '_ii': \"#test 1 p strategies\\nfor sid in sid_df['sid'].values:\\n    print(sid)\\n    play_dice_game_1p_sid(sid,rounds=10000)\\n    print('*****')\",\n",
       " '_iii': \"def play_dice_game_1p(selection_strategy, rounds=100):\\n\\t'''play dice game, 1 player. \\n\\tINPUT: selection_strategy,initialization_strategy, rounds\\n\\tOUTPUT: average No. of throws over rounds rounds\\n\\t'''\\n\\tdice_throws_arr = []\\n\\n\\tfor i in range(0,rounds):\\n\\t\\t\\n\\t\\t#vars\\n\\t\\tprofit = 0\\n\\t\\tthrows = 0\\n\\t\\twin = 0\\n\\t\\tfail = 0\\n\\t\\tcount_A = 0\\n\\t\\tcount_B = 0\\n\\t\\tcount_C = 0\\n\\t\\tprev_action = is_r() #choose a random action to begin\\n\\t\\tprev_dice_res = random.randint(1,6)\\n\\n\\t\\twhile profit < GOAL:\\n\\t\\t\\t\\n\\t\\t\\t#sel action, roll dice, count reward\\n\\t\\t\\tkwargs = {'profit':profit,'throws':throws, 'prev_action':prev_action,\\\\\\n\\t\\t\\t\\t\\t 'prev_dice_res':prev_dice_res, 'win':win, 'count_A':count_A,\\n\\t\\t\\t\\t\\t 'count_B':count_B,'count_C':count_C}\\n\\t\\t\\tsel_action = selection_strategy(**kwargs)\\n\\n\\t\\t\\t#counters\\n\\t\\t\\tif sel_action == action_A:\\n\\t\\t\\t\\tcount_A += 1\\n\\t\\t\\telif sel_action == action_B:\\n\\t\\t\\t\\tcount_B+=1\\n\\t\\t\\telif sel_action == action_C:\\n\\t\\t\\t\\tcount_C+=1\\n\\t\\t\\telse:\\n\\t\\t\\t\\traise \\n\\n\\t\\t\\tdice_res = random.randint(1,6)\\n\\t\\t\\tif dice_res in sel_action['match']:\\n\\t\\t\\t\\twin += 1\\n\\t\\t\\t\\tprofit += sel_action['reward']\\n\\t\\t\\t\\n\\t\\t\\t#update state\\n\\t\\t\\tthrows += 1\\n\\t\\t\\tprev_action = sel_action\\n\\t\\t\\tprev_dice_res = dice_res\\n\\n\\t\\tdice_throws_arr.append(throws)\\n\\t\\n\\tavg = np.mean(dice_throws_arr)\\n\\tprint('Player averaged '+ str(avg) + ' throws for '+ str(rounds) +' rounds')\\n\\ndef play_dice_game_2p(selection_strategy_p1,selection_strategy_p2,\\n\\trounds=100):\\n\\t'''play dice game, 2 players. \\n\\tINPUT: selection_strategy,initialization_strategy, rounds\\n\\tOUTPUT: winner array containing 1 for p1 win, 2 for p2 win and 0 for draw\\n\\t'''\\n\\twinner_array = []\\n\\n\\tfor i in range(0,rounds):\\n\\t\\tprofit_p1 = 0\\n\\t\\tprofit_p2 = 0\\n\\t\\twin_p1 = 0\\n\\t\\twin_p2 = 0\\n\\t\\tthrows = 0\\n\\n\\t\\tprev_action_p1 = is_r()  #choose a random action to begin\\n\\t\\tprev_action_p2 = is_r() #choose a random action to begin\\n\\t\\tprev_dice_res = -1\\n\\n\\t\\twhile profit_p1 < GOAL and profit_p2 < GOAL:\\n\\t\\t\\t#select strategy\\n\\t\\t\\targs_p1 = {'profit_p1':profit_p1,'profit_p2':profit_p2,\\\\\\n\\t\\t\\t\\t\\t  'throws':throws, 'prev_action_p1':prev_action_p1,\\\\\\n\\t\\t\\t\\t\\t  'prev_action_p2':prev_action_p2,\\\\\\n\\t\\t\\t\\t\\t  'prev_dice_res':prev_dice_res, \\\\\\n\\t\\t\\t\\t\\t  'win_p1':win_p1,'win_p2':win_p2,'whoAmI':'p1',\\\\\\n\\t\\t\\t\\t\\t  }\\n\\t\\t\\tsel_action_p1 = selection_strategy_p1(**args_p1)\\n\\t\\t\\targs_p2 = {'profit_p1':profit_p1,'profit_p2':profit_p2,\\\\\\n\\t\\t\\t\\t\\t  'throws':throws, 'prev_action_p1':prev_action_p1,\\\\\\n\\t\\t\\t\\t\\t  'prev_action_p2':prev_action_p2,\\\\\\n\\t\\t\\t\\t\\t  'prev_dice_res':prev_dice_res, \\\\\\n\\t\\t\\t\\t\\t  'win_p1':win_p1,'win_p2':win_p2,'whoAmI':'p2',\\\\\\n\\t\\t\\t\\t\\t  'sel_action_p1':sel_action_p1}\\n\\t\\t\\tsel_action_p2 = selection_strategy_p2(**args_p2)\\n\\n\\t\\t\\t#check reward\\n\\t\\t\\tdice_res = random.randint(1,6)\\n\\t\\t\\tif dice_res in sel_action_p1['match']:\\n\\t\\t\\t\\tprofit_p1 += sel_action_p1['reward']\\n\\t\\t\\tif dice_res in sel_action_p2['match']:\\n\\t\\t\\t\\tprofit_p2 += sel_action_p2['reward']\\n\\n\\t\\t\\t#update\\n\\t\\t\\tthrows += 1\\n\\t\\t\\tprev_action_1 = sel_action_p1\\n\\t\\t\\tprev_action_2 = sel_action_p2\\n\\t\\t\\tprev_dice_res = dice_res\\n\\t\\t\\n\\t\\tif profit_p1==profit_p2:\\n\\t\\t\\twin_p1 += 1\\n\\t\\t\\twin_p2 += 1\\n\\t\\t\\twinner_array.append(0)\\n\\t\\telif profit_p1>profit_p2:\\n\\t\\t\\twin_p1 += 1\\n\\t\\t\\twinner_array.append(1)\\n\\t\\telif profit_p1<profit_p2:\\n\\t\\t\\twin_p2 += 1\\n\\t\\t\\twinner_array.append(2)\\n\\t\\t\\t\\n\\t#decide winner\\n\\twinner_array = np.array(winner_array)\\n\\tchooseWinner(winner_array,rounds)\\n\\ndef chooseWinner(winner_arr,rounds):\\n\\t\\n\\tp2 = len(np.where(winner_arr==2)[0])\\n\\tp1 = len(np.where(winner_arr==1)[0])\\n\\tdraws = rounds - p1 - p2\\n\\t\\n\\tif p1==p2:\\n\\t\\tprint('Draw between player 1 and 2')\\n\\n\\telif p1>p2:\\n\\t\\tprint('Player 1 wins ' + str(p1) + ' vs. ' + str(p2) +' and ' + str(draws) + ' draws.')\\n\\n\\telif p2>p1:\\n\\t\\tprint('Player 2 wins ' + str(p2) + ' vs. ' + str(p1) +' and ' + str(draws) + ' draws.')\",\n",
       " '_i1': 'import os, sys\\nfrom selectionStrategies1p import *\\nfrom selectionStrategies2p import *\\nfrom playSingle import *\\nfrom play2players import *\\nfrom diceGameFunctions import *',\n",
       " 'os': <module 'os' from '/usr/lib/python3.8/os.py'>,\n",
       " 'sys': <module 'sys' (built-in)>,\n",
       " 'random': <module 'random' from '/usr/lib/python3.8/random.py'>,\n",
       " 'np': <module 'numpy' from '/home/eva/.local/lib/python3.8/site-packages/numpy/__init__.py'>,\n",
       " 'GOAL': 12,\n",
       " 'action_A': {'reward': 6, 'prob': 0.16666666666666666, 'match': [6]},\n",
       " 'action_B': {'reward': 3, 'prob': 0.3333333333333333, 'match': [2, 3]},\n",
       " 'action_C': {'reward': 2, 'prob': 0.5, 'match': [4, 5, 6]},\n",
       " 'actions': [{'reward': 6, 'prob': 0.16666666666666666, 'match': [6]},\n",
       "  {'reward': 3, 'prob': 0.3333333333333333, 'match': [2, 3]},\n",
       "  {'reward': 2, 'prob': 0.5, 'match': [4, 5, 6]}],\n",
       " 'ss1p_a': <function selectionStrategies1p.ss1p_a(**kwargs)>,\n",
       " 'ss1p_b': <function selectionStrategies1p.ss1p_b(**kwargs)>,\n",
       " 'ss1p_c': <function selectionStrategies1p.ss1p_c(**kwargs)>,\n",
       " 'ss1p_r': <function selectionStrategies1p.ss1p_r(**kwargs)>,\n",
       " 'ss1p_5': <function selectionStrategies1p.ss1p_5(**kwargs)>,\n",
       " 'ss1p_6': <function selectionStrategies1p.ss1p_6(**kwargs)>,\n",
       " 'ss1p_7': <function selectionStrategies1p.ss1p_7(**kwargs)>,\n",
       " 'ss1p_8': <function selectionStrategies1p.ss1p_8(**kwargs)>,\n",
       " 'ss1p_9': <function selectionStrategies1p.ss1p_9(**kwargs)>,\n",
       " 'ss1p_10': <function selectionStrategies1p.ss1p_10(**kwargs)>,\n",
       " 'ss1p_11': <function selectionStrategies1p.ss1p_11(**kwargs)>,\n",
       " 'ss1p_12': <function selectionStrategies1p.ss1p_12(**kwargs)>,\n",
       " 'ss1p_13': <function selectionStrategies1p.ss1p_13(**kwargs)>,\n",
       " 'ss1p_14': <function selectionStrategies1p.ss1p_14(**kwargs)>,\n",
       " 'ss1p_15': <function selectionStrategies1p.ss1p_15(**kwargs)>,\n",
       " 'ss1p_16': <function selectionStrategies1p.ss1p_16(**kwargs)>,\n",
       " 'ss1p_17': <function selectionStrategies1p.ss1p_17(**kwargs)>,\n",
       " 'ss1p_18': <function selectionStrategies1p.ss1p_18(**kwargs)>,\n",
       " 'ss1p_19': <function selectionStrategies1p.ss1p_19(**kwargs)>,\n",
       " 'ss1p_20': <function selectionStrategies1p.ss1p_20(**kwargs)>,\n",
       " 'ss1p_21': <function selectionStrategies1p.ss1p_21(**kwargs)>,\n",
       " 'ss1p_22': <function selectionStrategies1p.ss1p_22(**kwargs)>,\n",
       " 'ss1p_23': <function selectionStrategies1p.ss1p_23(**kwargs)>,\n",
       " 'ss1p_24': <function selectionStrategies1p.ss1p_24(**kwargs)>,\n",
       " 'ss1p_25': <function selectionStrategies1p.ss1p_25(**kwargs)>,\n",
       " 'ss1p_26': <function selectionStrategies1p.ss1p_26(**kwargs)>,\n",
       " 'ss1p_27': <function selectionStrategies1p.ss1p_27(**kwargs)>,\n",
       " 'ss1p_28': <function selectionStrategies1p.ss1p_28(**kwargs)>,\n",
       " 'ss1p_29': <function selectionStrategies1p.ss1p_29(**kwargs)>,\n",
       " 'ss1p_30': <function selectionStrategies1p.ss1p_30(**kwargs)>,\n",
       " 'ss1p_31': <function selectionStrategies1p.ss1p_31(**kwargs)>,\n",
       " 'ss1p_32': <function selectionStrategies1p.ss1p_32(**kwargs)>,\n",
       " 'ss1p_33': <function selectionStrategies1p.ss1p_33(**kwargs)>,\n",
       " 'ss1p_34': <function selectionStrategies1p.ss1p_34(**kwargs)>,\n",
       " 'ss1p_35': <function selectionStrategies1p.ss1p_35(**kwargs)>,\n",
       " 'ss1p_36': <function selectionStrategies1p.ss1p_36(**kwargs)>,\n",
       " 'ss1p_37': <function selectionStrategies1p.ss1p_37(**kwargs)>,\n",
       " 'ss1p_38': <function selectionStrategies1p.ss1p_38(**kwargs)>,\n",
       " 'ss1p_39': <function selectionStrategies1p.ss1p_39(**kwargs)>,\n",
       " 'ss1p_40': <function selectionStrategies1p.ss1p_40(**kwargs)>,\n",
       " 'ss1p_41': <function selectionStrategies1p.ss1p_41(**kwargs)>,\n",
       " 'is_r': <function diceGameFunctions.is_r()>,\n",
       " 'ss2p_a': <function selectionStrategies2p.ss2p_a(**kwargs)>,\n",
       " 'ss2p_b': <function selectionStrategies2p.ss2p_b(**kwargs)>,\n",
       " 'ss2p_c': <function selectionStrategies2p.ss2p_c(**kwargs)>,\n",
       " 'ss2p_r': <function selectionStrategies2p.ss2p_r(**kwargs)>,\n",
       " 'ss2p_f': <function selectionStrategies2p.ss2p_f(**kwargs)>,\n",
       " 'ss2p_4': <function selectionStrategies2p.ss2p_4(**kwargs)>,\n",
       " 'ss2p_5': <function selectionStrategies2p.ss2p_5(**kwargs)>,\n",
       " 'ss2p_6': <function selectionStrategies2p.ss2p_6(**kwargs)>,\n",
       " 'ss2p_7': <function selectionStrategies2p.ss2p_7(**kwargs)>,\n",
       " 'ss2p_8': <function selectionStrategies2p.ss2p_8(**kwargs)>,\n",
       " 'ss2p_9': <function selectionStrategies2p.ss2p_9(**kwargs)>,\n",
       " 'ss2p_10': <function selectionStrategies2p.ss2p_10(**kwargs)>,\n",
       " 'ss2p_11': <function selectionStrategies2p.ss2p_11(**kwargs)>,\n",
       " 'ss2p_12': <function selectionStrategies2p.ss2p_12(**kwargs)>,\n",
       " 'ss2p_13': <function selectionStrategies2p.ss2p_13(**kwargs)>,\n",
       " 'ss2p_14': <function selectionStrategies2p.ss2p_14(**kwargs)>,\n",
       " 'ss2p_15': <function selectionStrategies2p.ss2p_15(**kwargs)>,\n",
       " 'ss2p_16': <function selectionStrategies2p.ss2p_16(**kwargs)>,\n",
       " 'ss2p_17': <function selectionStrategies2p.ss2p_17(**kwargs)>,\n",
       " 'ss2p_18': <function selectionStrategies2p.ss2p_18(**kwargs)>,\n",
       " 'ss2p_19': <function selectionStrategies2p.ss2p_19(**kwargs)>,\n",
       " 'ss2p_20': <function selectionStrategies2p.ss2p_20(**kwargs)>,\n",
       " 'ss2p_21': <function selectionStrategies2p.ss2p_21(**kwargs)>,\n",
       " 'ss2p_22': <function selectionStrategies2p.ss2p_22(**kwargs)>,\n",
       " 'ss2p_23': <function selectionStrategies2p.ss2p_23(**kwargs)>,\n",
       " 'ss2p_24': <function selectionStrategies2p.ss2p_24(**kwargs)>,\n",
       " 'ss2p_25': <function selectionStrategies2p.ss2p_25(**kwargs)>,\n",
       " 'ss2p_26': <function selectionStrategies2p.ss2p_26(**kwargs)>,\n",
       " 'ss2p_27': <function selectionStrategies2p.ss2p_27(**kwargs)>,\n",
       " 'ss2p_28': <function selectionStrategies2p.ss2p_28(**kwargs)>,\n",
       " 'ss2p_29': <function selectionStrategies2p.ss2p_29(**kwargs)>,\n",
       " 'ss2p_30': <function selectionStrategies2p.ss2p_30(**kwargs)>,\n",
       " 'ss2p_31': <function selectionStrategies2p.ss2p_31(**kwargs)>,\n",
       " 'ss2p_32': <function selectionStrategies2p.ss2p_32(**kwargs)>,\n",
       " 'ss2p_33': <function selectionStrategies2p.ss2p_33(**kwargs)>,\n",
       " 'ss2p_34': <function selectionStrategies2p.ss2p_34(**kwargs)>,\n",
       " 'ss2p_35': <function selectionStrategies2p.ss2p_35(**kwargs)>,\n",
       " 'ss2p_36': <function selectionStrategies2p.ss2p_36(**kwargs)>,\n",
       " 'ss2p_37': <function selectionStrategies2p.ss2p_37(**kwargs)>,\n",
       " 'ss2p_38': <function selectionStrategies2p.ss2p_38(**kwargs)>,\n",
       " 'ss2p_39': <function selectionStrategies2p.ss2p_39(**kwargs)>,\n",
       " 'ss2p_40': <function selectionStrategies2p.ss2p_40(**kwargs)>,\n",
       " 'is_glvars': <function diceGameFunctions.is_glvars()>,\n",
       " 'play_dice_game_1p': <function __main__.play_dice_game_1p(selection_strategy, rounds=100)>,\n",
       " 'play_dice_game_2p': <function __main__.play_dice_game_2p(selection_strategy_p1, selection_strategy_p2, rounds=100)>,\n",
       " 'chooseWinner': <function __main__.chooseWinner(winner_arr, rounds)>,\n",
       " 'diceGameFunctions': <module 'diceGameFunctions' from '/home/eva/Documents/Masters/TA/DiceGame/diceGameFunctions.py'>,\n",
       " 'pd': <module 'pandas' from '/home/eva/.local/lib/python3.8/site-packages/pandas/__init__.py'>,\n",
       " 'play_dice_game_1p_sid': <function play2players.play_dice_game_1p_sid(sid, rounds=100)>,\n",
       " 'play_dice_game_2p_sid': <function play2players.play_dice_game_2p_sid(sid1, sid2, rounds=100)>,\n",
       " '_i2': 'play_dice_game_1p(ss1p_12,rounds = 100)',\n",
       " '_i3': 'play_dice_game_2p(ss2p_a,ss2p_5,rounds = 1000)',\n",
       " '_i4': \"import pandas as pd\\n\\nsid_df = pd.read_csv('StrategyPerSID.csv')\\nsid_df = sid_df.fillna('nan')\\nsid_df.head()\",\n",
       " 'sid_df':           sid  name     ss1p     ss2p is1p is2p always_p2 correct_sol nice_sol\n",
       " 0   107062421    ta   ss1p_a   ss2p_a  nan  nan       nan         nan      nan\n",
       " 1   108031227   林子瑜  ss1p_11   ss2p_4  nan  nan       nan         nan      nan\n",
       " 2   108020011   鍾允睿   ss1p_a   ss2p_a  nan  nan       nan        True      nan\n",
       " 3   108072108   林淇臻   ss1p_a   ss2p_a  nan  nan       nan         nan      nan\n",
       " 4   108031221   潘昱銘   ss1p_a   ss2p_6  nan  nan       nan         nan      nan\n",
       " ..        ...   ...      ...      ...  ...  ...       ...         ...      ...\n",
       " 72  105033148   林澄蔚   ss1p_6  ss2p_13  nan  nan       nan         nan      nan\n",
       " 73  108006219   陳天微  ss1p_39  ss2p_34  nan  nan       nan         nan      nan\n",
       " 74  108010013   簡映榕   ss1p_a   ss2p_c  nan  nan       nan         nan      nan\n",
       " 75  108006202  潘氏金銀  ss1p_40  ss2p_39  nan  nan       nan         nan      nan\n",
       " 76  105033130   林姵汝  ss1p_27  ss2p_34  nan  nan       nan         nan      nan\n",
       " \n",
       " [77 rows x 9 columns],\n",
       " '_4':          sid name     ss1p    ss2p is1p is2p always_p2 correct_sol nice_sol\n",
       " 0  107062421   ta   ss1p_a  ss2p_a  nan  nan       nan         nan      nan\n",
       " 1  108031227  林子瑜  ss1p_11  ss2p_4  nan  nan       nan         nan      nan\n",
       " 2  108020011  鍾允睿   ss1p_a  ss2p_a  nan  nan       nan        True      nan\n",
       " 3  108072108  林淇臻   ss1p_a  ss2p_a  nan  nan       nan         nan      nan\n",
       " 4  108031221  潘昱銘   ss1p_a  ss2p_6  nan  nan       nan         nan      nan,\n",
       " '_i5': 'globals()',\n",
       " '_5': {...},\n",
       " '_i6': \"def play_dice_game_1p(selection_strategy, rounds=100):\\n\\t'''play dice game, 1 player. \\n\\tINPUT: selection_strategy,initialization_strategy, rounds\\n\\tOUTPUT: average No. of throws over rounds rounds\\n\\t'''\\n\\tdice_throws_arr = []\\n\\n\\tfor i in range(0,rounds):\\n\\t\\t\\n\\t\\t#vars\\n\\t\\tprofit = 0\\n\\t\\tthrows = 0\\n\\t\\twin = 0\\n\\t\\tfail = 0\\n\\t\\tcount_A = 0\\n\\t\\tcount_B = 0\\n\\t\\tcount_C = 0\\n\\t\\tprev_action = is_r() #choose a random action to begin\\n\\t\\tprev_dice_res = random.randint(1,6)\\n\\n\\t\\twhile profit < GOAL:\\n\\t\\t\\t\\n\\t\\t\\t#sel action, roll dice, count reward\\n\\t\\t\\tkwargs = {'profit':profit,'throws':throws, 'prev_action':prev_action,\\\\\\n\\t\\t\\t\\t\\t 'prev_dice_res':prev_dice_res, 'win':win, 'count_A':count_A,\\n\\t\\t\\t\\t\\t 'count_B':count_B,'count_C':count_C}\\n\\t\\t\\tsel_action = selection_strategy(**kwargs)\\n\\n\\t\\t\\t#counters\\n\\t\\t\\tif sel_action == action_A:\\n\\t\\t\\t\\tcount_A += 1\\n\\t\\t\\telif sel_action == action_B:\\n\\t\\t\\t\\tcount_B+=1\\n\\t\\t\\telif sel_action == action_C:\\n\\t\\t\\t\\tcount_C+=1\\n\\t\\t\\telse:\\n\\t\\t\\t\\traise \\n\\n\\t\\t\\tdice_res = random.randint(1,6)\\n\\t\\t\\tif dice_res in sel_action['match']:\\n\\t\\t\\t\\twin += 1\\n\\t\\t\\t\\tprofit += sel_action['reward']\\n\\t\\t\\t\\n\\t\\t\\t#update state\\n\\t\\t\\tthrows += 1\\n\\t\\t\\tprev_action = sel_action\\n\\t\\t\\tprev_dice_res = dice_res\\n\\n\\t\\tdice_throws_arr.append(throws)\\n\\t\\n\\tavg = np.mean(dice_throws_arr)\\n\\tprint('Player averaged '+ str(avg) + ' throws for '+ str(rounds) +' rounds')\\n\\ndef play_dice_game_2p(selection_strategy_p1,selection_strategy_p2,\\n\\trounds=100):\\n\\t'''play dice game, 2 players. \\n\\tINPUT: selection_strategy,initialization_strategy, rounds\\n\\tOUTPUT: winner array containing 1 for p1 win, 2 for p2 win and 0 for draw\\n\\t'''\\n\\twinner_array = []\\n\\n\\tfor i in range(0,rounds):\\n\\t\\tprofit_p1 = 0\\n\\t\\tprofit_p2 = 0\\n\\t\\twin_p1 = 0\\n\\t\\twin_p2 = 0\\n\\t\\tthrows = 0\\n\\n\\t\\tprev_action_p1 = is_r()  #choose a random action to begin\\n\\t\\tprev_action_p2 = is_r() #choose a random action to begin\\n\\t\\tprev_dice_res = -1\\n\\n\\t\\twhile profit_p1 < GOAL and profit_p2 < GOAL:\\n\\t\\t\\t#select strategy\\n\\t\\t\\targs_p1 = {'profit_p1':profit_p1,'profit_p2':profit_p2,\\\\\\n\\t\\t\\t\\t\\t  'throws':throws, 'prev_action_p1':prev_action_p1,\\\\\\n\\t\\t\\t\\t\\t  'prev_action_p2':prev_action_p2,\\\\\\n\\t\\t\\t\\t\\t  'prev_dice_res':prev_dice_res, \\\\\\n\\t\\t\\t\\t\\t  'win_p1':win_p1,'win_p2':win_p2,'whoAmI':'p1',\\\\\\n\\t\\t\\t\\t\\t  }\\n\\t\\t\\tsel_action_p1 = selection_strategy_p1(**args_p1)\\n\\t\\t\\targs_p2 = {'profit_p1':profit_p1,'profit_p2':profit_p2,\\\\\\n\\t\\t\\t\\t\\t  'throws':throws, 'prev_action_p1':prev_action_p1,\\\\\\n\\t\\t\\t\\t\\t  'prev_action_p2':prev_action_p2,\\\\\\n\\t\\t\\t\\t\\t  'prev_dice_res':prev_dice_res, \\\\\\n\\t\\t\\t\\t\\t  'win_p1':win_p1,'win_p2':win_p2,'whoAmI':'p2',\\\\\\n\\t\\t\\t\\t\\t  'sel_action_p1':sel_action_p1}\\n\\t\\t\\tsel_action_p2 = selection_strategy_p2(**args_p2)\\n\\n\\t\\t\\t#check reward\\n\\t\\t\\tdice_res = random.randint(1,6)\\n\\t\\t\\tif dice_res in sel_action_p1['match']:\\n\\t\\t\\t\\tprofit_p1 += sel_action_p1['reward']\\n\\t\\t\\tif dice_res in sel_action_p2['match']:\\n\\t\\t\\t\\tprofit_p2 += sel_action_p2['reward']\\n\\n\\t\\t\\t#update\\n\\t\\t\\tthrows += 1\\n\\t\\t\\tprev_action_1 = sel_action_p1\\n\\t\\t\\tprev_action_2 = sel_action_p2\\n\\t\\t\\tprev_dice_res = dice_res\\n\\t\\t\\n\\t\\tif profit_p1==profit_p2:\\n\\t\\t\\twin_p1 += 1\\n\\t\\t\\twin_p2 += 1\\n\\t\\t\\twinner_array.append(0)\\n\\t\\telif profit_p1>profit_p2:\\n\\t\\t\\twin_p1 += 1\\n\\t\\t\\twinner_array.append(1)\\n\\t\\telif profit_p1<profit_p2:\\n\\t\\t\\twin_p2 += 1\\n\\t\\t\\twinner_array.append(2)\\n\\t\\t\\t\\n\\t#decide winner\\n\\twinner_array = np.array(winner_array)\\n\\tchooseWinner(winner_array,rounds)\\n\\ndef chooseWinner(winner_arr,rounds):\\n\\t\\n\\tp2 = len(np.where(winner_arr==2)[0])\\n\\tp1 = len(np.where(winner_arr==1)[0])\\n\\tdraws = rounds - p1 - p2\\n\\t\\n\\tif p1==p2:\\n\\t\\tprint('Draw between player 1 and 2')\\n\\n\\telif p1>p2:\\n\\t\\tprint('Player 1 wins ' + str(p1) + ' vs. ' + str(p2) +' and ' + str(draws) + ' draws.')\\n\\n\\telif p2>p1:\\n\\t\\tprint('Player 2 wins ' + str(p2) + ' vs. ' + str(p1) +' and ' + str(draws) + ' draws.')\",\n",
       " '_i7': \"#test 1 p strategies\\nfor sid in sid_df['sid'].values:\\n    print(sid)\\n    play_dice_game_1p_sid(sid,rounds=10000)\\n    print('*****')\",\n",
       " 'sid': 107062421,\n",
       " '_i8': \"import pandas as pd\\n\\nsid_df = pd.read_csv('StrategyPerSID.csv')\\nsid_df = sid_df.fillna('nan')\\nsid_df.head()\",\n",
       " '_8':          sid name     ss1p    ss2p is1p is2p always_p2 correct_sol nice_sol\n",
       " 0  107062421   ta   ss1p_a  ss2p_a  nan  nan       nan         nan      nan\n",
       " 1  108031227  林子瑜  ss1p_11  ss2p_4  nan  nan       nan         nan      nan\n",
       " 2  108020011  鍾允睿   ss1p_a  ss2p_a  nan  nan       nan        True      nan\n",
       " 3  108072108  林淇臻   ss1p_a  ss2p_a  nan  nan       nan         nan      nan\n",
       " 4  108031221  潘昱銘   ss1p_a  ss2p_6  nan  nan       nan         nan      nan,\n",
       " 'json': <module 'json' from '/usr/lib/python3.8/json/__init__.py'>,\n",
       " 'getsizeof': <function sys.getsizeof>,\n",
       " 'NamespaceMagics': IPython.core.magics.namespace.NamespaceMagics,\n",
       " '_nms': <IPython.core.magics.namespace.NamespaceMagics at 0x7ff28a792190>,\n",
       " '_Jupyter': <ipykernel.zmqshell.ZMQInteractiveShell at 0x7ff2cd29b6d0>,\n",
       " '_getsizeof': <function __main__._getsizeof(x)>,\n",
       " '_getshapeof': <function __main__._getshapeof(x)>,\n",
       " 'var_dic_list': <function __main__.var_dic_list()>,\n",
       " '_i9': 'globals()'}"
      ]
     },
     "execution_count": 9,
     "metadata": {},
     "output_type": "execute_result"
    }
   ],
   "source": [
    "globals()"
   ]
  },
  {
   "cell_type": "code",
   "execution_count": 6,
   "metadata": {
    "ExecuteTime": {
     "end_time": "2020-06-11T17:12:06.354945Z",
     "start_time": "2020-06-11T17:12:06.350894Z"
    }
   },
   "outputs": [],
   "source": [
    "def play_dice_game_1p_sid(sid,rounds=100):\n",
    "    '''given sd play n rounds single player game'''\n",
    "    \n",
    "    #Raise exception\n",
    "    if sid not in sid_df['sid'].values:\n",
    "        print(\"Unable to call function, ckeck SIDs\")\n",
    "        return\n",
    "        \n",
    "    ss1p = sid_df.loc[sid_df['sid']==sid,'ss1p'].values[0]\n",
    "    if ss1p == 'nan':\n",
    "        ss1p = ss1p_r\n",
    "    else:\n",
    "        ss1p = globals()[ss1p]\n",
    "\n",
    "    play_dice_game_1p(ss1p,rounds)"
   ]
  },
  {
   "cell_type": "code",
   "execution_count": 10,
   "metadata": {
    "ExecuteTime": {
     "end_time": "2020-06-11T17:13:30.510335Z",
     "start_time": "2020-06-11T17:13:30.500048Z"
    }
   },
   "outputs": [],
   "source": [
    "def play_dice_game_1p(selection_strategy, rounds=100):\n",
    "\t'''play dice game, 1 player. \n",
    "\tINPUT: selection_strategy,initialization_strategy, rounds\n",
    "\tOUTPUT: average No. of throws over rounds rounds\n",
    "\t'''\n",
    "\tdice_throws_arr = []\n",
    "\n",
    "\tfor i in range(0,rounds):\n",
    "\t\t\n",
    "\t\t#vars\n",
    "\t\tprofit = 0\n",
    "\t\tthrows = 0\n",
    "\t\twin = 0\n",
    "\t\tfail = 0\n",
    "\t\tcount_A = 0\n",
    "\t\tcount_B = 0\n",
    "\t\tcount_C = 0\n",
    "\t\tprev_action = is_r() #choose a random action to begin\n",
    "\t\tprev_dice_res = random.randint(1,6)\n",
    "\n",
    "\t\twhile profit < GOAL:\n",
    "\t\t\t\n",
    "\t\t\t#sel action, roll dice, count reward\n",
    "\t\t\tkwargs = {'profit':profit,'throws':throws, 'prev_action':prev_action,\\\n",
    "\t\t\t\t\t 'prev_dice_res':prev_dice_res, 'win':win, 'count_A':count_A,\n",
    "\t\t\t\t\t 'count_B':count_B,'count_C':count_C}\n",
    "\t\t\tsel_action = selection_strategy(**kwargs)\n",
    "\n",
    "\t\t\t#counters\n",
    "\t\t\tif sel_action == action_A:\n",
    "\t\t\t\tcount_A += 1\n",
    "\t\t\telif sel_action == action_B:\n",
    "\t\t\t\tcount_B+=1\n",
    "\t\t\telif sel_action == action_C:\n",
    "\t\t\t\tcount_C+=1\n",
    "\t\t\telse:\n",
    "\t\t\t\traise \n",
    "\n",
    "\t\t\tdice_res = random.randint(1,6)\n",
    "\t\t\tif dice_res in sel_action['match']:\n",
    "\t\t\t\twin += 1\n",
    "\t\t\t\tprofit += sel_action['reward']\n",
    "\t\t\t\n",
    "\t\t\t#update state\n",
    "\t\t\tthrows += 1\n",
    "\t\t\tprev_action = sel_action\n",
    "\t\t\tprev_dice_res = dice_res\n",
    "\n",
    "\t\tdice_throws_arr.append(throws)\n",
    "\t\n",
    "\tavg = np.mean(dice_throws_arr)\n",
    "\tprint('Player averaged '+ str(avg) + ' throws for '+ str(rounds) +' rounds')\n",
    "\n",
    "def play_dice_game_2p(selection_strategy_p1,selection_strategy_p2,\n",
    "\trounds=100):\n",
    "\t'''play dice game, 2 players. \n",
    "\tINPUT: selection_strategy,initialization_strategy, rounds\n",
    "\tOUTPUT: winner array containing 1 for p1 win, 2 for p2 win and 0 for draw\n",
    "\t'''\n",
    "\twinner_array = []\n",
    "\n",
    "\tfor i in range(0,rounds):\n",
    "\t\tprofit_p1 = 0\n",
    "\t\tprofit_p2 = 0\n",
    "\t\twin_p1 = 0\n",
    "\t\twin_p2 = 0\n",
    "\t\tthrows = 0\n",
    "\n",
    "\t\tprev_action_p1 = is_r()  #choose a random action to begin\n",
    "\t\tprev_action_p2 = is_r() #choose a random action to begin\n",
    "\t\tprev_dice_res = -1\n",
    "\n",
    "\t\twhile profit_p1 < GOAL and profit_p2 < GOAL:\n",
    "\t\t\t#select strategy\n",
    "\t\t\targs_p1 = {'profit_p1':profit_p1,'profit_p2':profit_p2,\\\n",
    "\t\t\t\t\t  'throws':throws, 'prev_action_p1':prev_action_p1,\\\n",
    "\t\t\t\t\t  'prev_action_p2':prev_action_p2,\\\n",
    "\t\t\t\t\t  'prev_dice_res':prev_dice_res, \\\n",
    "\t\t\t\t\t  'win_p1':win_p1,'win_p2':win_p2,'whoAmI':'p1',\\\n",
    "\t\t\t\t\t  }\n",
    "\t\t\tsel_action_p1 = selection_strategy_p1(**args_p1)\n",
    "\t\t\targs_p2 = {'profit_p1':profit_p1,'profit_p2':profit_p2,\\\n",
    "\t\t\t\t\t  'throws':throws, 'prev_action_p1':prev_action_p1,\\\n",
    "\t\t\t\t\t  'prev_action_p2':prev_action_p2,\\\n",
    "\t\t\t\t\t  'prev_dice_res':prev_dice_res, \\\n",
    "\t\t\t\t\t  'win_p1':win_p1,'win_p2':win_p2,'whoAmI':'p2',\\\n",
    "\t\t\t\t\t  'sel_action_p1':sel_action_p1}\n",
    "\t\t\tsel_action_p2 = selection_strategy_p2(**args_p2)\n",
    "\n",
    "\t\t\t#check reward\n",
    "\t\t\tdice_res = random.randint(1,6)\n",
    "\t\t\tif dice_res in sel_action_p1['match']:\n",
    "\t\t\t\tprofit_p1 += sel_action_p1['reward']\n",
    "\t\t\tif dice_res in sel_action_p2['match']:\n",
    "\t\t\t\tprofit_p2 += sel_action_p2['reward']\n",
    "\n",
    "\t\t\t#update\n",
    "\t\t\tthrows += 1\n",
    "\t\t\tprev_action_1 = sel_action_p1\n",
    "\t\t\tprev_action_2 = sel_action_p2\n",
    "\t\t\tprev_dice_res = dice_res\n",
    "\t\t\n",
    "\t\tif profit_p1==profit_p2:\n",
    "\t\t\twin_p1 += 1\n",
    "\t\t\twin_p2 += 1\n",
    "\t\t\twinner_array.append(0)\n",
    "\t\telif profit_p1>profit_p2:\n",
    "\t\t\twin_p1 += 1\n",
    "\t\t\twinner_array.append(1)\n",
    "\t\telif profit_p1<profit_p2:\n",
    "\t\t\twin_p2 += 1\n",
    "\t\t\twinner_array.append(2)\n",
    "\t\t\t\n",
    "\t#decide winner\n",
    "\twinner_array = np.array(winner_array)\n",
    "\tchooseWinner(winner_array,rounds)\n",
    "\n",
    "def chooseWinner(winner_arr,rounds):\n",
    "\t\n",
    "\tp2 = len(np.where(winner_arr==2)[0])\n",
    "\tp1 = len(np.where(winner_arr==1)[0])\n",
    "\tdraws = rounds - p1 - p2\n",
    "\t\n",
    "\tif p1==p2:\n",
    "\t\tprint('Draw between player 1 and 2')\n",
    "\n",
    "\telif p1>p2:\n",
    "\t\tprint('Player 1 wins ' + str(p1) + ' vs. ' + str(p2) +' and ' + str(draws) + ' draws.')\n",
    "\n",
    "\telif p2>p1:\n",
    "\t\tprint('Player 2 wins ' + str(p2) + ' vs. ' + str(p1) +' and ' + str(draws) + ' draws.')\n"
   ]
  },
  {
   "cell_type": "code",
   "execution_count": 11,
   "metadata": {
    "ExecuteTime": {
     "end_time": "2020-06-11T17:13:30.930961Z",
     "start_time": "2020-06-11T17:13:30.921260Z"
    }
   },
   "outputs": [
    {
     "name": "stdout",
     "output_type": "stream",
     "text": [
      "107062421\n"
     ]
    },
    {
     "ename": "NameError",
     "evalue": "name 'sid_df' is not defined",
     "output_type": "error",
     "traceback": [
      "\u001b[0;31m---------------------------------------------------------------------------\u001b[0m",
      "\u001b[0;31mNameError\u001b[0m                                 Traceback (most recent call last)",
      "\u001b[0;32m<ipython-input-11-e9e366c1244f>\u001b[0m in \u001b[0;36m<module>\u001b[0;34m\u001b[0m\n\u001b[1;32m      2\u001b[0m \u001b[0;32mfor\u001b[0m \u001b[0msid\u001b[0m \u001b[0;32min\u001b[0m \u001b[0msid_df\u001b[0m\u001b[0;34m[\u001b[0m\u001b[0;34m'sid'\u001b[0m\u001b[0;34m]\u001b[0m\u001b[0;34m.\u001b[0m\u001b[0mvalues\u001b[0m\u001b[0;34m:\u001b[0m\u001b[0;34m\u001b[0m\u001b[0;34m\u001b[0m\u001b[0m\n\u001b[1;32m      3\u001b[0m     \u001b[0mprint\u001b[0m\u001b[0;34m(\u001b[0m\u001b[0msid\u001b[0m\u001b[0;34m)\u001b[0m\u001b[0;34m\u001b[0m\u001b[0;34m\u001b[0m\u001b[0m\n\u001b[0;32m----> 4\u001b[0;31m     \u001b[0mplay_dice_game_1p_sid\u001b[0m\u001b[0;34m(\u001b[0m\u001b[0msid\u001b[0m\u001b[0;34m,\u001b[0m\u001b[0mrounds\u001b[0m\u001b[0;34m=\u001b[0m\u001b[0;36m10000\u001b[0m\u001b[0;34m)\u001b[0m\u001b[0;34m\u001b[0m\u001b[0;34m\u001b[0m\u001b[0m\n\u001b[0m\u001b[1;32m      5\u001b[0m     \u001b[0mprint\u001b[0m\u001b[0;34m(\u001b[0m\u001b[0;34m'*****'\u001b[0m\u001b[0;34m)\u001b[0m\u001b[0;34m\u001b[0m\u001b[0;34m\u001b[0m\u001b[0m\n",
      "\u001b[0;32m~/Documents/Masters/TA/DiceGame/play2players.py\u001b[0m in \u001b[0;36mplay_dice_game_1p_sid\u001b[0;34m(sid, rounds)\u001b[0m\n\u001b[1;32m     11\u001b[0m \u001b[0;34m\u001b[0m\u001b[0m\n\u001b[1;32m     12\u001b[0m         \u001b[0;31m#Raise exception\u001b[0m\u001b[0;34m\u001b[0m\u001b[0;34m\u001b[0m\u001b[0;34m\u001b[0m\u001b[0m\n\u001b[0;32m---> 13\u001b[0;31m         \u001b[0;32mif\u001b[0m \u001b[0msid\u001b[0m \u001b[0;32mnot\u001b[0m \u001b[0;32min\u001b[0m \u001b[0msid_df\u001b[0m\u001b[0;34m[\u001b[0m\u001b[0;34m'sid'\u001b[0m\u001b[0;34m]\u001b[0m\u001b[0;34m.\u001b[0m\u001b[0mvalues\u001b[0m\u001b[0;34m:\u001b[0m\u001b[0;34m\u001b[0m\u001b[0;34m\u001b[0m\u001b[0m\n\u001b[0m\u001b[1;32m     14\u001b[0m                 \u001b[0mprint\u001b[0m\u001b[0;34m(\u001b[0m\u001b[0;34m\"Unable to call function, ckeck SIDs\"\u001b[0m\u001b[0;34m)\u001b[0m\u001b[0;34m\u001b[0m\u001b[0;34m\u001b[0m\u001b[0m\n\u001b[1;32m     15\u001b[0m                 \u001b[0;32mreturn\u001b[0m\u001b[0;34m\u001b[0m\u001b[0;34m\u001b[0m\u001b[0m\n",
      "\u001b[0;31mNameError\u001b[0m: name 'sid_df' is not defined"
     ]
    }
   ],
   "source": [
    "#test 1 p strategies\n",
    "for sid in sid_df['sid'].values:\n",
    "    print(sid)\n",
    "    play_dice_game_1p_sid(sid,rounds=10000)\n",
    "    print('*****')"
   ]
  },
  {
   "cell_type": "code",
   "execution_count": null,
   "metadata": {
    "ExecuteTime": {
     "end_time": "2020-06-11T17:13:30.965767Z",
     "start_time": "2020-06-11T17:13:30.566Z"
    }
   },
   "outputs": [],
   "source": [
    "#test 2p strategies\n",
    "TA_sid = 107062421\n",
    "for sid in sid_df['sid'].values:\n",
    "    print(sid)\n",
    "    play_dice_game_2p_sid(TA_sid,sid,rounds=1000)\n",
    "    print('*****')"
   ]
  },
  {
   "cell_type": "code",
   "execution_count": 12,
   "metadata": {
    "ExecuteTime": {
     "end_time": "2020-06-11T17:13:31.123439Z",
     "start_time": "2020-06-11T17:13:31.120749Z"
    }
   },
   "outputs": [
    {
     "data": {
      "text/plain": [
       "(106041010, 106031122)"
      ]
     },
     "execution_count": 12,
     "metadata": {},
     "output_type": "execute_result"
    }
   ],
   "source": [
    "106041010,106031122"
   ]
  },
  {
   "cell_type": "code",
   "execution_count": null,
   "metadata": {
    "ExecuteTime": {
     "end_time": "2020-06-11T17:13:22.768062Z",
     "start_time": "2020-06-11T17:13:22.356Z"
    }
   },
   "outputs": [],
   "source": [
    "play_dice_game_2p_sid(108031221,108031227,rounds=1000)"
   ]
  },
  {
   "cell_type": "code",
   "execution_count": null,
   "metadata": {
    "ExecuteTime": {
     "end_time": "2020-06-11T17:13:22.769009Z",
     "start_time": "2020-06-11T17:13:22.358Z"
    }
   },
   "outputs": [],
   "source": [
    "for i in range(0,5):\n",
    "    play_dice_game_2p_sid(108031221,TA_sid,rounds=1000)"
   ]
  },
  {
   "cell_type": "code",
   "execution_count": null,
   "metadata": {},
   "outputs": [],
   "source": []
  },
  {
   "cell_type": "code",
   "execution_count": null,
   "metadata": {},
   "outputs": [],
   "source": []
  }
 ],
 "metadata": {
  "kernelspec": {
   "display_name": "Python 3",
   "language": "python",
   "name": "python3"
  },
  "language_info": {
   "codemirror_mode": {
    "name": "ipython",
    "version": 3
   },
   "file_extension": ".py",
   "mimetype": "text/x-python",
   "name": "python",
   "nbconvert_exporter": "python",
   "pygments_lexer": "ipython3",
   "version": "3.8.2"
  },
  "toc": {
   "base_numbering": 1,
   "nav_menu": {},
   "number_sections": true,
   "sideBar": true,
   "skip_h1_title": false,
   "title_cell": "Table of Contents",
   "title_sidebar": "Contents",
   "toc_cell": false,
   "toc_position": {},
   "toc_section_display": true,
   "toc_window_display": false
  },
  "varInspector": {
   "cols": {
    "lenName": 16,
    "lenType": 16,
    "lenVar": 40
   },
   "kernels_config": {
    "python": {
     "delete_cmd_postfix": "",
     "delete_cmd_prefix": "del ",
     "library": "var_list.py",
     "varRefreshCmd": "print(var_dic_list())"
    },
    "r": {
     "delete_cmd_postfix": ") ",
     "delete_cmd_prefix": "rm(",
     "library": "var_list.r",
     "varRefreshCmd": "cat(var_dic_list()) "
    }
   },
   "types_to_exclude": [
    "module",
    "function",
    "builtin_function_or_method",
    "instance",
    "_Feature"
   ],
   "window_display": false
  }
 },
 "nbformat": 4,
 "nbformat_minor": 4
}
